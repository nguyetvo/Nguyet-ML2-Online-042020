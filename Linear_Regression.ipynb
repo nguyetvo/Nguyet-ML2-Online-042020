{
 "cells": [
  {
   "cell_type": "markdown",
   "metadata": {
    "colab_type": "text",
    "id": "fAp8A1FCnhI8"
   },
   "source": [
    "# Linear Regression"
   ]
  },
  {
   "cell_type": "markdown",
   "metadata": {
    "colab_type": "text",
    "id": "JX29zesNnwMQ"
   },
   "source": [
    "## 1. Linear Regression"
   ]
  },
  {
   "cell_type": "code",
   "execution_count": 0,
   "metadata": {
    "colab": {
     "base_uri": "https://localhost:8080/",
     "height": 125
    },
    "colab_type": "code",
    "id": "cu081gdqCyKf",
    "outputId": "4add0d7b-744c-465a-c7e8-fae71abb940d"
   },
   "outputs": [
    {
     "name": "stdout",
     "output_type": "stream",
     "text": [
      "Go to this URL in a browser: https://accounts.google.com/o/oauth2/auth?client_id=947318989803-6bn6qk8qdgf4n4g3pfee6491hc0brc4i.apps.googleusercontent.com&redirect_uri=urn%3aietf%3awg%3aoauth%3a2.0%3aoob&response_type=code&scope=email%20https%3a%2f%2fwww.googleapis.com%2fauth%2fdocs.test%20https%3a%2f%2fwww.googleapis.com%2fauth%2fdrive%20https%3a%2f%2fwww.googleapis.com%2fauth%2fdrive.photos.readonly%20https%3a%2f%2fwww.googleapis.com%2fauth%2fpeopleapi.readonly\n",
      "\n",
      "Enter your authorization code:\n",
      "··········\n",
      "Mounted at /gdrive\n"
     ]
    }
   ],
   "source": [
    "from google.colab import drive\n",
    "drive.mount('/gdrive')"
   ]
  },
  {
   "cell_type": "code",
   "execution_count": 0,
   "metadata": {
    "colab": {
     "base_uri": "https://localhost:8080/",
     "height": 72
    },
    "colab_type": "code",
    "id": "eax0VcD4DEnC",
    "outputId": "17ceb93e-aeef-4f15-c8a6-80a306630772"
   },
   "outputs": [
    {
     "name": "stderr",
     "output_type": "stream",
     "text": [
      "/usr/local/lib/python3.6/dist-packages/statsmodels/tools/_testing.py:19: FutureWarning: pandas.util.testing is deprecated. Use the functions in the public API at pandas.testing instead.\n",
      "  import pandas.util.testing as tm\n"
     ]
    }
   ],
   "source": [
    "import pandas as pd\n",
    "import seaborn as sns\n",
    "import matplotlib.pyplot as plt\n",
    "import numpy as np\n",
    "\n",
    "%matplotlib inline"
   ]
  },
  {
   "cell_type": "code",
   "execution_count": 0,
   "metadata": {
    "colab": {},
    "colab_type": "code",
    "id": "c2VI_6teDOvT"
   },
   "outputs": [],
   "source": [
    "# Read data\n",
    "df = pd.read_csv('/gdrive/My Drive/Data/linear_regression.csv')"
   ]
  },
  {
   "cell_type": "code",
   "execution_count": 0,
   "metadata": {
    "colab": {
     "base_uri": "https://localhost:8080/",
     "height": 296
    },
    "colab_type": "code",
    "id": "posLeIBL797V",
    "outputId": "81c86040-022e-470c-aca1-cb4a6819c132"
   },
   "outputs": [
    {
     "data": {
      "text/html": [
       "<div>\n",
       "<style scoped>\n",
       "    .dataframe tbody tr th:only-of-type {\n",
       "        vertical-align: middle;\n",
       "    }\n",
       "\n",
       "    .dataframe tbody tr th {\n",
       "        vertical-align: top;\n",
       "    }\n",
       "\n",
       "    .dataframe thead th {\n",
       "        text-align: right;\n",
       "    }\n",
       "</style>\n",
       "<table border=\"1\" class=\"dataframe\">\n",
       "  <thead>\n",
       "    <tr style=\"text-align: right;\">\n",
       "      <th></th>\n",
       "      <th>Unnamed: 0</th>\n",
       "      <th>TV</th>\n",
       "      <th>Radio</th>\n",
       "      <th>Newspaper</th>\n",
       "      <th>Sales</th>\n",
       "    </tr>\n",
       "  </thead>\n",
       "  <tbody>\n",
       "    <tr>\n",
       "      <th>count</th>\n",
       "      <td>200.000000</td>\n",
       "      <td>200.000000</td>\n",
       "      <td>200.000000</td>\n",
       "      <td>200.000000</td>\n",
       "      <td>200.000000</td>\n",
       "    </tr>\n",
       "    <tr>\n",
       "      <th>mean</th>\n",
       "      <td>100.500000</td>\n",
       "      <td>147.042500</td>\n",
       "      <td>23.264000</td>\n",
       "      <td>30.554000</td>\n",
       "      <td>14.022500</td>\n",
       "    </tr>\n",
       "    <tr>\n",
       "      <th>std</th>\n",
       "      <td>57.879185</td>\n",
       "      <td>85.854236</td>\n",
       "      <td>14.846809</td>\n",
       "      <td>21.778621</td>\n",
       "      <td>5.217457</td>\n",
       "    </tr>\n",
       "    <tr>\n",
       "      <th>min</th>\n",
       "      <td>1.000000</td>\n",
       "      <td>0.700000</td>\n",
       "      <td>0.000000</td>\n",
       "      <td>0.300000</td>\n",
       "      <td>1.600000</td>\n",
       "    </tr>\n",
       "    <tr>\n",
       "      <th>25%</th>\n",
       "      <td>50.750000</td>\n",
       "      <td>74.375000</td>\n",
       "      <td>9.975000</td>\n",
       "      <td>12.750000</td>\n",
       "      <td>10.375000</td>\n",
       "    </tr>\n",
       "    <tr>\n",
       "      <th>50%</th>\n",
       "      <td>100.500000</td>\n",
       "      <td>149.750000</td>\n",
       "      <td>22.900000</td>\n",
       "      <td>25.750000</td>\n",
       "      <td>12.900000</td>\n",
       "    </tr>\n",
       "    <tr>\n",
       "      <th>75%</th>\n",
       "      <td>150.250000</td>\n",
       "      <td>218.825000</td>\n",
       "      <td>36.525000</td>\n",
       "      <td>45.100000</td>\n",
       "      <td>17.400000</td>\n",
       "    </tr>\n",
       "    <tr>\n",
       "      <th>max</th>\n",
       "      <td>200.000000</td>\n",
       "      <td>296.400000</td>\n",
       "      <td>49.600000</td>\n",
       "      <td>114.000000</td>\n",
       "      <td>27.000000</td>\n",
       "    </tr>\n",
       "  </tbody>\n",
       "</table>\n",
       "</div>"
      ],
      "text/plain": [
       "       Unnamed: 0          TV       Radio   Newspaper       Sales\n",
       "count  200.000000  200.000000  200.000000  200.000000  200.000000\n",
       "mean   100.500000  147.042500   23.264000   30.554000   14.022500\n",
       "std     57.879185   85.854236   14.846809   21.778621    5.217457\n",
       "min      1.000000    0.700000    0.000000    0.300000    1.600000\n",
       "25%     50.750000   74.375000    9.975000   12.750000   10.375000\n",
       "50%    100.500000  149.750000   22.900000   25.750000   12.900000\n",
       "75%    150.250000  218.825000   36.525000   45.100000   17.400000\n",
       "max    200.000000  296.400000   49.600000  114.000000   27.000000"
      ]
     },
     "execution_count": 7,
     "metadata": {
      "tags": []
     },
     "output_type": "execute_result"
    }
   ],
   "source": [
    "df.describe()"
   ]
  },
  {
   "cell_type": "code",
   "execution_count": 0,
   "metadata": {
    "colab": {
     "base_uri": "https://localhost:8080/",
     "height": 279
    },
    "colab_type": "code",
    "id": "BOATAvC1D03p",
    "outputId": "8f142162-8edc-4edf-b321-6b7277bae278"
   },
   "outputs": [
    {
     "data": {
      "image/png": "[encoded data removed]",
      "text/plain": [
       "<Figure size 432x288 with 1 Axes>"
      ]
     },
     "metadata": {
      "tags": []
     },
     "output_type": "display_data"
    }
   ],
   "source": [
    "# Plot the relationship between TV Ads and Sales\n",
    "plt.scatter(x = df['TV'], y = df['Sales'])\n",
    "plt.xlabel('TV Ads')\n",
    "plt.ylabel('Sales')\n",
    "plt.show()"
   ]
  },
  {
   "cell_type": "code",
   "execution_count": 0,
   "metadata": {
    "colab": {},
    "colab_type": "code",
    "id": "p87hIq56ujFy"
   },
   "outputs": [],
   "source": [
    "# Let's have just one predictor variable: TV for now\n",
    "X = df[['TV']].to_numpy()\n",
    "y = df['Sales'].to_numpy().reshape((-1, 1))"
   ]
  },
  {
   "cell_type": "markdown",
   "metadata": {
    "colab_type": "text",
    "id": "FqRVvpliukvk"
   },
   "source": [
    "__Standardization__\n",
    "\n",
    "To address this issue, we want to __scale__ the variables of our data.\n",
    "\n",
    "One approach of scaling is called __Standardization__. Formula:\n",
    "\n",
    "$$x'=\\frac {x-\\bar x}{\\sigma}$$\n",
    "\n",
    "By standardizing, we redistribute the variables to their $\\mu = 0$ and $\\sigma = 1$. This will significantly improve the training process as all features are now in the same scale."
   ]
  },
  {
   "cell_type": "code",
   "execution_count": 0,
   "metadata": {
    "colab": {
     "base_uri": "https://localhost:8080/",
     "height": 265
    },
    "colab_type": "code",
    "id": "1unEQFgDupvq",
    "outputId": "a2063f94-9ebc-49ca-e0ef-7c6608beb1a9"
   },
   "outputs": [
    {
     "data": {
      "image/png": "[encoded data removed]",
      "text/plain": [
       "<Figure size 432x288 with 1 Axes>"
      ]
     },
     "metadata": {
      "tags": []
     },
     "output_type": "display_data"
    }
   ],
   "source": [
    "# Standardization\n",
    "X_mean = np.mean(X)\n",
    "X_std = np.std(X)\n",
    "y_mean = np.mean(y)\n",
    "y_std = np.std(y)\n",
    "\n",
    "X = (X - X_mean) / X_std\n",
    "y = (y - y_mean) / y_std\n",
    "\n",
    "# Our data after scaling\n",
    "plt.scatter(X, y)\n",
    "plt.show()"
   ]
  },
  {
   "cell_type": "markdown",
   "metadata": {
    "colab_type": "text",
    "id": "UYTmTy4oo03W"
   },
   "source": [
    "### Simple Linear Regresion"
   ]
  },
  {
   "cell_type": "markdown",
   "metadata": {
    "colab_type": "text",
    "id": "0zC9ROsVUE-U"
   },
   "source": [
    "#### __Linear Equation__\n",
    "$$ \\hat y = b + wx$$\n",
    "\n",
    "- $b$ (or $b_0$): bias (or constant, intercept)\n",
    "- $w$ (or $b_1$): weight (or coefficient)"
   ]
  },
  {
   "cell_type": "code",
   "execution_count": 0,
   "metadata": {
    "colab": {},
    "colab_type": "code",
    "id": "cXmpeytuqiQY"
   },
   "outputs": [],
   "source": [
    "# Create a Linear Regression model to predict a continuous output (y) using given input (X)\n",
    "def predict(X, w, b):\n",
    "  y = b + w * X\n",
    "\n",
    "  return y"
   ]
  },
  {
   "cell_type": "code",
   "execution_count": 0,
   "metadata": {
    "colab": {
     "base_uri": "https://localhost:8080/",
     "height": 335
    },
    "colab_type": "code",
    "id": "PddBNBiXq_sw",
    "outputId": "27b9b278-145d-464e-edcf-24ea5b830e4a"
   },
   "outputs": [
    {
     "name": "stdout",
     "output_type": "stream",
     "text": [
      "Shape of w: (1, 1)\n",
      "Shape of b: (1, 1)\n",
      "Shape of X: (200, 1)\n",
      "Shape of y_hat: (200, 1)\n"
     ]
    },
    {
     "data": {
      "image/png": "[encoded data removed]",
      "text/plain": [
       "<Figure size 432x288 with 1 Axes>"
      ]
     },
     "metadata": {
      "tags": []
     },
     "output_type": "display_data"
    }
   ],
   "source": [
    "# Let's initialize our model as y = 0\n",
    "w = np.zeros((1, 1))\n",
    "b = np.zeros((1, 1))\n",
    "\n",
    "y_hat = predict(X, w, b) \n",
    "\n",
    "print(f\"Shape of w: {w.shape}\")\n",
    "print(f\"Shape of b: {b.shape}\")\n",
    "print(f\"Shape of X: {X.shape}\")\n",
    "print(f\"Shape of y_hat: {y_hat.shape}\")\n",
    "\n",
    "# Plot the model\n",
    "plt.scatter(X, y, alpha=0.6)\n",
    "plt.plot(X, y_hat, c='r')\n",
    "\n",
    "plt.show()"
   ]
  },
  {
   "cell_type": "markdown",
   "metadata": {
    "colab_type": "text",
    "id": "arJdIYgR3YlE"
   },
   "source": [
    "#### __Error(Lost) Function: Mean Squared Error__\n",
    "\n",
    "The Error (Lost) Function of our model tells us how \"wrong\" the model is.\n",
    "__Mean Squared Error__ is the error function used for linear regression.\n",
    "\n",
    "$$MSE = \\frac{1}{n}\\sum_{i=1}^{n}(y - \\hat y)^2$$"
   ]
  },
  {
   "cell_type": "code",
   "execution_count": 0,
   "metadata": {
    "colab": {
     "base_uri": "https://localhost:8080/",
     "height": 34
    },
    "colab_type": "code",
    "id": "5NxnAxzTTJHY",
    "outputId": "836c4096-3ca8-49f1-c722-118564a9387d"
   },
   "outputs": [
    {
     "name": "stdout",
     "output_type": "stream",
     "text": [
      "MSE of our initial model: 1.0\n"
     ]
    }
   ],
   "source": [
    "# Calculate the mean squared error of the model\n",
    "def mse(y, y_hat):\n",
    "    return np.mean((y - y_hat)**2)\n",
    "\n",
    "print(f\"MSE of our initial model: {mse(y, y_hat)}\")"
   ]
  },
  {
   "cell_type": "markdown",
   "metadata": {
    "colab_type": "text",
    "id": "z4B7REx965tY"
   },
   "source": [
    "#### __Minimizing Error Function: Gradient Descent Algorithm__\n",
    "\n",
    "The __Gradient Descent__ algorithm minimizes the result of the error function.\n",
    "> __Gradient descent__ is an optimization algorithm used to minimize some function by iteratively moving in the direction of steepest descent as defined by the negative of the gradient.\n",
    "\n",
    "![](https://ml-cheatsheet.readthedocs.io/en/latest/_images/gradient_descent.png)\n",
    "\n",
    "![](https://miro.medium.com/max/1400/0*fU8XFt-NCMZGAWND.)\n",
    "\n",
    "__Formula:__\n",
    "\n",
    "- General:\n",
    "$$\\theta_j := \\theta_j - \\alpha \\frac {\\partial}{\\partial \\theta_j}J_\\theta$$\n",
    "\n",
    "  - $\\theta_j$: parameter ($w$, $b_1$, $b_2$,...$b_n$)\n",
    "  - $\\alpha$: learning rate\n",
    "  - $J_\\theta$: error function with parameter $\\theta_j$\n",
    "\n",
    "__This process is repreated until convergence.__\n",
    "\n",
    "- Partial Derivative of $b$:\n",
    "\n",
    "$$ \\frac {\\partial}{\\partial \\theta_b}J_\\theta = \\frac {-2}{m}\\sum_{i=1}^{n}(y_i-\\hat y_i) $$\n",
    "\n",
    "- Partial Derivative of $w$\n",
    "\n",
    "$$ \\frac {\\partial}{\\partial \\theta_w}J_\\theta = \\frac {-2}{m}\\sum_{i=1}^{n}x_i(y_i-\\hat y_i) $$\n",
    "<br>\n"
   ]
  },
  {
   "cell_type": "code",
   "execution_count": 0,
   "metadata": {
    "colab": {},
    "colab_type": "code",
    "id": "7c3YOQFzUKcF"
   },
   "outputs": [],
   "source": [
    "# Learning rate\n",
    "alpha = 0.01 \n",
    "\n",
    "# Number of rows (observations)\n",
    "m = X.shape[0] "
   ]
  },
  {
   "cell_type": "code",
   "execution_count": 0,
   "metadata": {
    "colab": {},
    "colab_type": "code",
    "id": "RHO7jj67OMvt"
   },
   "outputs": [],
   "source": [
    "# Initialize our model as y = 0\n",
    "w = np.zeros((1, 1))\n",
    "b = np.zeros((1, 1))\n",
    "\n",
    "# Predicting y_hat with our model\n",
    "# This step is called Forward Propagation\n",
    "y_hat = predict(X, w, b) "
   ]
  },
  {
   "cell_type": "code",
   "execution_count": 0,
   "metadata": {
    "colab": {},
    "colab_type": "code",
    "id": "BEiGz6e6UaT3"
   },
   "outputs": [],
   "source": [
    "# Change w and b to reduce error function using Gradient Descent\n",
    "# This step is called Backward Propagation\n",
    "def backward_():\n",
    "    global y_hat, w, b\n",
    "    db = 0\n",
    "    dw = 0\n",
    "\n",
    "    for i in range(m):\n",
    "      db += -2 * (y[i] - (X[i]*w + b))\n",
    "      dw += -2 * X[i] * (y[i] - (X[i]*w + b))\n",
    "\n",
    "    b = b - (db / m) * alpha\n",
    "    w = w - (dw / m) * alpha\n",
    "\n",
    "    y_hat = predict(X, w, b)\n",
    "\n",
    "    return mse(y, y_hat)"
   ]
  },
  {
   "cell_type": "code",
   "execution_count": 0,
   "metadata": {
    "colab": {
     "base_uri": "https://localhost:8080/",
     "height": 70
    },
    "colab_type": "code",
    "id": "ML7uD8gjL6a9",
    "outputId": "2fe1fb8b-11c1-4af3-e63d-15ab316c06a1"
   },
   "outputs": [
    {
     "name": "stdout",
     "output_type": "stream",
     "text": [
      "Coef: [[0.04600105]]\n",
      "Intercept: [[-9.9475983e-18]]\n",
      "MSE: 0.9086856168535192\n"
     ]
    }
   ],
   "source": [
    "# Let's test it out\n",
    "print(f\"Coef: {w}\")\n",
    "print(f\"Intercept: {b}\")\n",
    "print(f\"MSE: {backward()}\")"
   ]
  },
  {
   "cell_type": "code",
   "execution_count": 1,
   "metadata": {
    "colab": {},
    "colab_type": "code",
    "id": "Rop-t0UtVZYW"
   },
   "outputs": [],
   "source": [
    "# Vectorization is much faster.\n",
    "# The Backward Propagation function using numpy\n",
    "def backward():\n",
    "    global y_hat, w, b\n",
    "\n",
    "    dw = (-2/m) * (np.dot(X.T, (y - y_hat)))\n",
    "    db = (-2/m) * np.sum(y - y_hat, keepdims = True)\n",
    "\n",
    "    w = w - (alpha * dw)\n",
    "    b = b - (alpha * db)\n",
    "\n",
    "    # Forward propagation\n",
    "    y_hat = np.dot(X, w) + b\n",
    "\n",
    "    return mse(y, y_hat)"
   ]
  },
  {
   "cell_type": "code",
   "execution_count": 0,
   "metadata": {
    "colab": {},
    "colab_type": "code",
    "id": "MYGkK0R2bBtA"
   },
   "outputs": [],
   "source": [
    "# Number of time we will repreat the gradient descent process\n",
    "iterations = 1000\n",
    "\n",
    "# Create a list containing the mse after each interation\n",
    "mse_list = []"
   ]
  },
  {
   "cell_type": "code",
   "execution_count": 0,
   "metadata": {
    "colab": {
     "base_uri": "https://localhost:8080/",
     "height": 318
    },
    "colab_type": "code",
    "id": "AcH69SE1WnVQ",
    "outputId": "a4cfd4c7-f481-405e-81c3-ecdc1e77742b"
   },
   "outputs": [
    {
     "name": "stdout",
     "output_type": "stream",
     "text": [
      "MSE: 0.388124949149929\n",
      "b: [[-2.77555756e-16]]\n",
      "w: [[0.78222442]]\n"
     ]
    },
    {
     "data": {
      "image/png": "[encoded data removed]",
      "text/plain": [
       "<Figure size 432x288 with 1 Axes>"
      ]
     },
     "metadata": {
      "tags": []
     },
     "output_type": "display_data"
    }
   ],
   "source": [
    "# Train (Fit) our model\n",
    "for i in range(iterations):\n",
    "  mse_list.append(mse(y, y_hat))\n",
    "  backward()\n",
    "\n",
    "print(f\"MSE: {mse_list[-1]}\")\n",
    "print(f\"b: {b}\")\n",
    "print(f\"w: {w}\")\n",
    "\n",
    "# Plot our model after training\n",
    "plt.scatter(X, y, alpha = 0.6)\n",
    "plt.plot(X, y_hat, c='r')\n",
    "\n",
    "plt.show()"
   ]
  },
  {
   "cell_type": "code",
   "execution_count": 0,
   "metadata": {
    "colab": {
     "base_uri": "https://localhost:8080/",
     "height": 265
    },
    "colab_type": "code",
    "id": "ohpNBRHCXwmL",
    "outputId": "c599d479-77bb-4759-e3c5-405d4358bea7"
   },
   "outputs": [
    {
     "data": {
      "image/png": "[encoded data removed]",
      "text/plain": [
       "<Figure size 432x288 with 1 Axes>"
      ]
     },
     "metadata": {
      "tags": []
     },
     "output_type": "display_data"
    }
   ],
   "source": [
    "# Plot the change in mse during the traing process\n",
    "plt.plot(list(range(len(mse_list))), mse_list, c = 'r')\n",
    "plt.show()"
   ]
  },
  {
   "cell_type": "code",
   "execution_count": 0,
   "metadata": {
    "colab": {},
    "colab_type": "code",
    "id": "l5dQShi7YGg1"
   },
   "outputs": [],
   "source": [
    "# Animate the training process\n",
    "from matplotlib import animation, rc\n",
    "rc('animation', html='jshtml')\n",
    "%matplotlib inline\n",
    "\n",
    "# Re-initialize the parameters\n",
    "w = np.zeros((1, 1))\n",
    "b = np.zeros((1, 1))\n",
    "\n",
    "y_hat = predict(X, w, b)\n",
    "\n",
    "fig, ax = plt.subplots()\n",
    "\n",
    "plt.scatter(X, y, alpha=0.7)\n",
    "line, = plt.plot(X, y_hat, c='r')\n",
    "text = ax.text(20, 0, 'MSE %f, w=%f, b=%f' % (mse(y, y_hat), w, b))\n",
    "\n",
    "plt.close()\n",
    "\n",
    "costs = []\n",
    "def animate(i):\n",
    "    costs.append(backward())\n",
    "    line.set_ydata(y_hat)\n",
    "    text.set_text('MSE %f, w=%f, b=%f' % (mse(y, y_hat), w, b))\n",
    "    return line,\n",
    "\n",
    "anim = animation.FuncAnimation(fig, animate, np.arange(0, 100), interval=100, blit=True)\n",
    "anim"
   ]
  },
  {
   "cell_type": "markdown",
   "metadata": {
    "colab_type": "text",
    "id": "O3pik5k3WPsw"
   },
   "source": [
    "## Multiple Linear Regression"
   ]
  },
  {
   "cell_type": "markdown",
   "metadata": {
    "colab_type": "text",
    "id": "B34HYF5rXdfu"
   },
   "source": [
    "### From Scratch\n",
    "A Multiple Linear Regression model has many predictor variables (features).\n",
    "\n",
    "#### __Linear Equation__\n",
    "$$ y = b + w_1x_1 + w_2x_2 + ... + w_nx_n$$\n",
    "\n",
    "- $b$ (or $b_0$): bias (or constant, intercept)\n",
    "- $w_n$ (or $b_n$): weight (or coefficient)"
   ]
  },
  {
   "cell_type": "code",
   "execution_count": 0,
   "metadata": {
    "colab": {
     "base_uri": "https://localhost:8080/",
     "height": 87
    },
    "colab_type": "code",
    "id": "VomOkCV6co2g",
    "outputId": "a2a49d53-2955-4e9f-b1d4-e878f1f18c9d"
   },
   "outputs": [
    {
     "name": "stdout",
     "output_type": "stream",
     "text": [
      "Shape of X: (200, 3)\n",
      "Shape of w: (3, 1)\n",
      "Shape of b: (1, 1)\n",
      "Shape of y_hat: (200, 1)\n"
     ]
    }
   ],
   "source": [
    "# Initialize parameters\n",
    "m = X.shape[0] # Number of row (observations)\n",
    "n = X.shape[1] # Number of column (features)\n",
    "\n",
    "w = np.zeros((n, 1))\n",
    "b = np.zeros((1, 1))\n",
    "\n",
    "alpha = 0.01\n",
    "\n",
    "y_hat = np.dot(X, w) + b\n",
    "\n",
    "print(f\"Shape of X: {X.shape}\")\n",
    "print(f\"Shape of w: {w.shape}\")\n",
    "print(f\"Shape of b: {b.shape}\")\n",
    "print(f\"Shape of y_hat: {y_hat.shape}\")"
   ]
  },
  {
   "cell_type": "code",
   "execution_count": 0,
   "metadata": {
    "colab": {},
    "colab_type": "code",
    "id": "KEfPNIgFSViN"
   },
   "outputs": [],
   "source": [
    "# Standardization\n",
    "X_mean = np.mean(X)\n",
    "X_std = np.std(X)\n",
    "y_mean = np.mean(y)\n",
    "y_std = np.std(y)\n",
    "\n",
    "X = (X - X_mean) / X_std\n",
    "y = (y - y_mean) / y_std"
   ]
  },
  {
   "cell_type": "code",
   "execution_count": 0,
   "metadata": {
    "colab": {},
    "colab_type": "code",
    "id": "7T6PflT4zqAY"
   },
   "outputs": [],
   "source": [
    "# Backward Propagation\n",
    "def backward():\n",
    "    global y_hat, w, b\n",
    "\n",
    "    dw = (-2/m) * (np.dot(X.T, (y - y_hat)))\n",
    "    db = (-2/m) * np.sum(y - y_hat, keepdims = True)\n",
    "\n",
    "    w = w - (alpha * dw)\n",
    "    b = b - (alpha * db)\n",
    "\n",
    "    # Forward propagation\n",
    "    y_hat = np.dot(X, w) + b\n",
    "\n",
    "    return mse(y, y_hat)"
   ]
  },
  {
   "cell_type": "code",
   "execution_count": 0,
   "metadata": {
    "colab": {
     "base_uri": "https://localhost:8080/",
     "height": 105
    },
    "colab_type": "code",
    "id": "s2t9Ih7IZRkS",
    "outputId": "a5ecd7b2-65df-43f0-9534-b9ce2f7e05ab"
   },
   "outputs": [
    {
     "name": "stdout",
     "output_type": "stream",
     "text": [
      "Coef: [[0.]\n",
      " [0.]\n",
      " [0.]]\n",
      "Intercept: [[0.]]\n",
      "MSE: 73850803.95680553\n"
     ]
    }
   ],
   "source": [
    "# Let's test it out\n",
    "print(f\"Coef: {w}\")\n",
    "print(f\"Intercept: {b}\")\n",
    "print(f\"MSE: {backward()}\")"
   ]
  },
  {
   "cell_type": "code",
   "execution_count": 0,
   "metadata": {
    "colab": {},
    "colab_type": "code",
    "id": "6xukAjzIyckB"
   },
   "outputs": [],
   "source": [
    "# Wrap up to whole process!\n",
    "class LinearRegression():\n",
    "  def __init__(self, alpha, iterations):\n",
    "    self.alpha = alpha\n",
    "    self.iterations = iterations\n",
    "\n",
    "  def fit(self, X, y):\n",
    "    self.m = X.shape[0]\n",
    "    self.n = X.shape[1]\n",
    "    self.w = np.zeros((self.n, 1))\n",
    "    self.b = np.zeros((1, 1))\n",
    "    self.X = X\n",
    "    self.y = y\n",
    "    self.y_hat = np.dot(X, self.w) + self.b\n",
    "\n",
    "    for i in range(self.iterations):\n",
    "      self.backward()\n",
    "\n",
    "  def mse(self, y, y_hat):\n",
    "    return np.mean((y - y_hat) ** 2)\n",
    "\n",
    "  def backward(self):\n",
    "\n",
    "    dw = (-2/self.m) * (np.dot(self.X.T, (self.y - self.y_hat)))\n",
    "    db = (-2/self.m) * np.sum(self.y - self.y_hat, keepdims = True)\n",
    "\n",
    "    self.w = self.w - (self.alpha * dw)\n",
    "    self.b = self.b - (self.alpha * db)\n",
    "\n",
    "    # Forward propagation\n",
    "    self.y_hat = np.dot(self.X, w) + self.b\n",
    "\n",
    "    return self.mse(self.y, self.y_hat)\n",
    "\n",
    "  def predict(self, X):\n",
    "    return np.dot(X, self.w) + self.b"
   ]
  },
  {
   "cell_type": "code",
   "execution_count": 0,
   "metadata": {
    "cellView": "both",
    "colab": {},
    "colab_type": "code",
    "id": "dGBdFh-c3uFC"
   },
   "outputs": [],
   "source": [
    "# Test the model\n",
    "model = LinearRegression(alpha = 0.000001, iterations = 200000)\n",
    "\n",
    "model.fit(X, y)\n",
    "\n",
    "print(f'Coef: {model.w}')\n",
    "print(f'Intercept: {model.b}')\n",
    "print(f'MSE: {mean_squared_error(y, model.predict(X))}')"
   ]
  },
  {
   "cell_type": "code",
   "execution_count": 3,
   "metadata": {
    "colab": {},
    "colab_type": "code",
    "id": "5NjJcJSxUttS"
   },
   "outputs": [
    {
     "name": "stdout",
     "output_type": "stream",
     "text": [
      "Requirement already satisfied: gradient in /Users/nguyetvo/opt/anaconda3/lib/python3.7/site-packages (0.6.1)\n",
      "Requirement already satisfied: requests[security] in /Users/nguyetvo/opt/anaconda3/lib/python3.7/site-packages (from gradient) (2.22.0)\n",
      "Requirement already satisfied: click>=7.0 in /Users/nguyetvo/opt/anaconda3/lib/python3.7/site-packages (from gradient) (7.0)\n",
      "Requirement already satisfied: PyYAML==5.* in /Users/nguyetvo/opt/anaconda3/lib/python3.7/site-packages (from gradient) (5.1.2)\n",
      "Requirement already satisfied: six in /Users/nguyetvo/opt/anaconda3/lib/python3.7/site-packages (from gradient) (1.12.0)\n",
      "Requirement already satisfied: colorama==0.3.9 in /Users/nguyetvo/opt/anaconda3/lib/python3.7/site-packages (from gradient) (0.3.9)\n",
      "Requirement already satisfied: progressbar2 in /Users/nguyetvo/opt/anaconda3/lib/python3.7/site-packages (from gradient) (3.50.1)\n",
      "Requirement already satisfied: click-didyoumean in /Users/nguyetvo/opt/anaconda3/lib/python3.7/site-packages (from gradient) (0.0.3)\n",
      "Requirement already satisfied: attrs<=19 in /Users/nguyetvo/opt/anaconda3/lib/python3.7/site-packages (from gradient) (18.2.0)\n",
      "Requirement already satisfied: terminaltables in /Users/nguyetvo/opt/anaconda3/lib/python3.7/site-packages (from gradient) (3.1.0)\n",
      "Requirement already satisfied: prompt-toolkit<3.0 in /Users/nguyetvo/opt/anaconda3/lib/python3.7/site-packages (from gradient) (2.0.10)\n",
      "Requirement already satisfied: marshmallow<3.0 in /Users/nguyetvo/opt/anaconda3/lib/python3.7/site-packages (from gradient) (2.21.0)\n",
      "Requirement already satisfied: click-completion in /Users/nguyetvo/opt/anaconda3/lib/python3.7/site-packages (from gradient) (0.5.2)\n",
      "Requirement already satisfied: click-help-colors in /Users/nguyetvo/opt/anaconda3/lib/python3.7/site-packages (from gradient) (0.8)\n",
      "Requirement already satisfied: requests-toolbelt in /Users/nguyetvo/opt/anaconda3/lib/python3.7/site-packages (from gradient) (0.9.1)\n",
      "Requirement already satisfied: halo in /Users/nguyetvo/opt/anaconda3/lib/python3.7/site-packages (from gradient) (0.0.29)\n",
      "Requirement already satisfied: chardet<3.1.0,>=3.0.2 in /Users/nguyetvo/opt/anaconda3/lib/python3.7/site-packages (from requests[security]->gradient) (3.0.4)\n",
      "Requirement already satisfied: certifi>=2017.4.17 in /Users/nguyetvo/opt/anaconda3/lib/python3.7/site-packages (from requests[security]->gradient) (2019.9.11)\n",
      "Requirement already satisfied: urllib3!=1.25.0,!=1.25.1,<1.26,>=1.21.1 in /Users/nguyetvo/opt/anaconda3/lib/python3.7/site-packages (from requests[security]->gradient) (1.24.2)\n",
      "Requirement already satisfied: idna<2.9,>=2.5 in /Users/nguyetvo/opt/anaconda3/lib/python3.7/site-packages (from requests[security]->gradient) (2.8)\n",
      "Requirement already satisfied: pyOpenSSL>=0.14; extra == \"security\" in /Users/nguyetvo/opt/anaconda3/lib/python3.7/site-packages (from requests[security]->gradient) (19.0.0)\n",
      "Requirement already satisfied: cryptography>=1.3.4; extra == \"security\" in /Users/nguyetvo/opt/anaconda3/lib/python3.7/site-packages (from requests[security]->gradient) (2.7)\n",
      "Requirement already satisfied: python-utils>=2.3.0 in /Users/nguyetvo/opt/anaconda3/lib/python3.7/site-packages (from progressbar2->gradient) (2.4.0)\n",
      "Requirement already satisfied: wcwidth in /Users/nguyetvo/opt/anaconda3/lib/python3.7/site-packages (from prompt-toolkit<3.0->gradient) (0.1.7)\n",
      "Requirement already satisfied: jinja2 in /Users/nguyetvo/opt/anaconda3/lib/python3.7/site-packages (from click-completion->gradient) (2.10.3)\n",
      "Requirement already satisfied: shellingham in /Users/nguyetvo/opt/anaconda3/lib/python3.7/site-packages (from click-completion->gradient) (1.3.2)\n",
      "Requirement already satisfied: log-symbols>=0.0.14 in /Users/nguyetvo/opt/anaconda3/lib/python3.7/site-packages (from halo->gradient) (0.0.14)\n",
      "Requirement already satisfied: cursor>=1.2.0 in /Users/nguyetvo/opt/anaconda3/lib/python3.7/site-packages (from halo->gradient) (1.3.4)\n",
      "Requirement already satisfied: termcolor>=1.1.0 in /Users/nguyetvo/opt/anaconda3/lib/python3.7/site-packages (from halo->gradient) (1.1.0)\n",
      "Requirement already satisfied: spinners>=0.0.24 in /Users/nguyetvo/opt/anaconda3/lib/python3.7/site-packages (from halo->gradient) (0.0.24)\n",
      "Requirement already satisfied: cffi!=1.11.3,>=1.8 in /Users/nguyetvo/opt/anaconda3/lib/python3.7/site-packages (from cryptography>=1.3.4; extra == \"security\"->requests[security]->gradient) (1.12.3)\n",
      "Requirement already satisfied: asn1crypto>=0.21.0 in /Users/nguyetvo/opt/anaconda3/lib/python3.7/site-packages (from cryptography>=1.3.4; extra == \"security\"->requests[security]->gradient) (1.0.1)\n",
      "Requirement already satisfied: MarkupSafe>=0.23 in /Users/nguyetvo/opt/anaconda3/lib/python3.7/site-packages (from jinja2->click-completion->gradient) (1.1.1)\n",
      "Requirement already satisfied: pycparser in /Users/nguyetvo/opt/anaconda3/lib/python3.7/site-packages (from cffi!=1.11.3,>=1.8->cryptography>=1.3.4; extra == \"security\"->requests[security]->gradient) (2.19)\n"
     ]
    },
    {
     "ename": "ImportError",
     "evalue": "cannot import name 'iterLearningRate' from 'gradient' (/Users/nguyetvo/opt/anaconda3/lib/python3.7/site-packages/gradient/__init__.py)",
     "output_type": "error",
     "traceback": [
      "\u001b[0;31m---------------------------------------------------------------------------\u001b[0m",
      "\u001b[0;31mImportError\u001b[0m                               Traceback (most recent call last)",
      "\u001b[0;32m<ipython-input-3-049e0bb0ec4a>\u001b[0m in \u001b[0;36m<module>\u001b[0;34m\u001b[0m\n\u001b[1;32m     53\u001b[0m         \u001b[0;32mreturn\u001b[0m \u001b[0;34m[\u001b[0m\u001b[0;34m(\u001b[0m\u001b[0mparams\u001b[0m\u001b[0;34m[\u001b[0m\u001b[0;34m'theta0'\u001b[0m\u001b[0;34m]\u001b[0m \u001b[0;34m+\u001b[0m \u001b[0;34m(\u001b[0m\u001b[0mi\u001b[0m \u001b[0;34m*\u001b[0m \u001b[0mparams\u001b[0m\u001b[0;34m[\u001b[0m\u001b[0;34m'theta1'\u001b[0m\u001b[0;34m]\u001b[0m\u001b[0;34m)\u001b[0m\u001b[0;34m)\u001b[0m \u001b[0;32mfor\u001b[0m \u001b[0mi\u001b[0m \u001b[0;32min\u001b[0m \u001b[0mx\u001b[0m\u001b[0;34m]\u001b[0m\u001b[0;34m\u001b[0m\u001b[0;34m\u001b[0m\u001b[0m\n\u001b[1;32m     54\u001b[0m \u001b[0;34m\u001b[0m\u001b[0m\n\u001b[0;32m---> 55\u001b[0;31m \u001b[0;32mfrom\u001b[0m \u001b[0mgradient\u001b[0m \u001b[0;32mimport\u001b[0m \u001b[0miterLearningRate\u001b[0m\u001b[0;34m,\u001b[0m \u001b[0mvanilla_gradient_descent\u001b[0m\u001b[0;34m\u001b[0m\u001b[0;34m\u001b[0m\u001b[0m\n\u001b[0m\u001b[1;32m     56\u001b[0m \u001b[0;34m\u001b[0m\u001b[0m\n\u001b[1;32m     57\u001b[0m \u001b[0;31m# # # formulate original 'y' i.e. y = 3 + 2*x (i.e. theta0 + theta1 * x)\u001b[0m\u001b[0;34m\u001b[0m\u001b[0;34m\u001b[0m\u001b[0;34m\u001b[0m\u001b[0m\n",
      "\u001b[0;31mImportError\u001b[0m: cannot import name 'iterLearningRate' from 'gradient' (/Users/nguyetvo/opt/anaconda3/lib/python3.7/site-packages/gradient/__init__.py)"
     ]
    }
   ],
   "source": [
    "!pip install gradient\n",
    "# # # Loss function = half-MSE # # #\n",
    "# # parameters\n",
    "# y = original values of target variable\n",
    "# yhat = predicted values of target variable\n",
    "def loss(y, yhat):\n",
    "\tse = round(sum([(yhat[i] - y[i])**2 for i in range(len(y))]), 6)\n",
    "\tmse = se/(2.0 * len(y))\n",
    "\treturn mse\n",
    "\n",
    "# # # derivative function of theta0 # # #\n",
    "# # parameters\n",
    "# y = original values of target variable\n",
    "# yhat = predicted values of target variable\n",
    "def derivative1(y, yhat):\n",
    "\td = sum([yhat[i] - y[i] for i in range(len(y))])\n",
    "\td = d / float(len(y))\n",
    "\treturn(d)\n",
    "\n",
    "# # # derivative function of theta1 # # #\n",
    "# # parameters\n",
    "# y = original values of target variable\n",
    "# yhat = predicted values of target variable\n",
    "# x = list of independent data values in the data\n",
    "def derivative2(y, yhat, x):\n",
    "\td = sum([((yhat[i] - y[i]) * x[i]) for i in range(len(y))])\n",
    "\td = d / float(len(y))\n",
    "\treturn(d)\n",
    "\n",
    "# # # A function that calculates the derivative change with learning rate # # #\n",
    "# # parameters\n",
    "# x = list of lists of independent feature values in the data\n",
    "# y = original values of target variable\n",
    "# yhat = predicted values of target variable\n",
    "# params = parameters that needs optimization\n",
    "# learning_rate = learning_rate to proceed with the gradient\n",
    "def derivatives(x, y, yhat, params, learning_rate, complex = False):\n",
    "\td1 = derivative1(y, yhat)\n",
    "\td2 = derivative2(y, yhat, x)\n",
    "\tif complex:\n",
    "\t\td1 = float(d1)/max(d1, d2)\n",
    "\t\td2 = float(d2)/max(d1, d2)\n",
    "\tparams['theta0'] = round(params['theta0'] - learning_rate * d1, 4)\n",
    "\tparams['theta1'] = round(params['theta1'] - learning_rate * d2, 4)\n",
    "\treturn(params)\n",
    "\n",
    "\n",
    "# # # A function that calculates y value given x and params # # #\n",
    "# # parameters\n",
    "# x = list of lists of independent feature values in the data\n",
    "# params = parameters that needs optimization\n",
    "def yEQ(x, params):\n",
    "\treturn [(params['theta0'] + (i * params['theta1'])) for i in x]\n",
    "\n",
    "from gradient import iterLearningRate, vanilla_gradient_descent\n",
    "\n",
    "# # # formulate original 'y' i.e. y = 3 + 2*x (i.e. theta0 + theta1 * x)\n",
    "x = range(1, 10)\n",
    "y = yEQ(x, params = {'theta0' : 3, 'theta1' : 2})\n",
    "\n",
    "print (vanilla_gradient_descent(x, y, params = {'theta0' : 0, 'theta1' : 0}, derivatives = derivatives, force = True, learning_rate = 0.1, yEQ = yEQ, loss = loss, adaptive = True))\n",
    "print (iterLearningRate(x, y, params = {'theta0' : 0, 'theta1' : 0}, derivatives = derivatives, yEQ = yEQ, force = True, loss = loss, adaptive = True, plot_flag = False))\n"
   ]
  },
  {
   "cell_type": "code",
   "execution_count": null,
   "metadata": {},
   "outputs": [],
   "source": []
  }
 ],
 "metadata": {
  "colab": {
   "collapsed_sections": [],
   "name": "FTMLE_Linear Regression from scratch",
   "provenance": []
  },
  "kernelspec": {
   "display_name": "Python 3",
   "language": "python",
   "name": "python3"
  },
  "language_info": {
   "codemirror_mode": {
    "name": "ipython",
    "version": 3
   },
   "file_extension": ".py",
   "mimetype": "text/x-python",
   "name": "python",
   "nbconvert_exporter": "python",
   "pygments_lexer": "ipython3",
   "version": "3.7.4"
  }
 },
 "nbformat": 4,
 "nbformat_minor": 1
}
