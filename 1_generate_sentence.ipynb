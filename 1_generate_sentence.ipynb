{
  "nbformat": 4,
  "nbformat_minor": 0,
  "metadata": {
    "kernelspec": {
      "display_name": "Python 3",
      "language": "python",
      "name": "python3"
    },
    "language_info": {
      "codemirror_mode": {
        "name": "ipython",
        "version": 3
      },
      "file_extension": ".py",
      "mimetype": "text/x-python",
      "name": "python",
      "nbconvert_exporter": "python",
      "pygments_lexer": "ipython3",
      "version": "3.5.3"
    },
    "colab": {
      "name": "1 - generate sentence.ipynb",
      "provenance": [],
      "include_colab_link": true
    }
  },
  "cells": [
    {
      "cell_type": "markdown",
      "metadata": {
        "id": "view-in-github",
        "colab_type": "text"
      },
      "source": [
        "<a href=\"https://colab.research.google.com/github/nguyetvo/Nguyet-ML2-Online-042020/blob/master/1_generate_sentence.ipynb\" target=\"_parent\"><img src=\"https://colab.research.google.com/assets/colab-badge.svg\" alt=\"Open In Colab\"/></a>"
      ]
    },
    {
      "cell_type": "markdown",
      "metadata": {
        "id": "oIDgjjR6zEJN",
        "colab_type": "text"
      },
      "source": [
        "# Text Generation using Bidirectional LSTM and Doc2Vec models\n",
        "\n",
        "The purpose of [this article](https://medium.com/@david.campion/text-generation-using-bidirectional-lstm-and-doc2vec-models-1-3-8979eb65cb3a) is to discuss about text generation, using machine learning approaches, especially neural networks.\n",
        "\n",
        "It is not the first article about it, and probably not the last. Actually, there is a lot of litterature about text generation using \"AI\" techniques, and some codes are available to generate texts from existing novels, trying to create new chapters for **\"Game of Thrones\"**, **\"Harry Potter\"**, or a new piece in the style of **Shakespears**. Sometimes with interesting results.\n",
        "\n",
        "Mainly, these approaches are using classic LSTM networks, and the are pretty fun to be experimented.\n",
        "\n",
        "However, generated texts provide a taste of unachievement. Generated sentences seems quite right, whith correct grammar and syntax, as if the neural network was understanding correctly the structure of a sentence. But the whole new text does not have great sense. If it is not complete nosense. \n",
        "\n",
        "This problem could come from the approach itself, using only LSTM to generate text word by word. But how can we improve them ? In this article, I will try to investigate a new way to generate sentences.\n",
        "\n",
        "It does not mean that I will use something completely different from LTSM : I am not, I will use LTSM network to generate sequences of words. However I will try to go further than a classic LSTM neural network and I will use an additional neural network (LSTM again), to select the best phrases.\n",
        "\n",
        "Then, this article can be used as a tutorial. It describes :\n",
        " 1. **how to train a neural network to generate sentences** (i.e. sequences of words), based on existing novels. I will use a bidirectional LSTM Architecture to perform that.\n",
        " 2. **how to train a neural network to select the best next sentence for given paragraph** (i.e. a sequence of sentences). I will also use a bidirectional LSTM archicture, in addition to a Doc2Vec model of the target novels.\n",
        "\n",
        "\n",
        "### Note about Data inputs\n",
        "As data inputs, I will not use texts which are not free in term of intellectual properties. So I will not train the solution to create a new chapter for **\"Game of Throne\"** or **\"Harry Potter\"**.\n",
        "Sorry about that, there is plenty of \"free\" text to perform such texts generation exercices and we can dive into the [Gutemberg project](http://www.gutenberg.org), which provides huge amount of texts (from [William Shakespears](http://www.gutenberg.org/ebooks/author/65) to [H.P. Lovecraft](http://www.gutenberg.org/ebooks/author/34724), or other great authors).\n",
        "\n",
        "However, I am also a french author of fantasy and Science fiction. So I will use my personnal material to create a new chapter of my stories, hoping it can help me in my next work!\n",
        "\n",
        "So, I will base this exercice on **\"Artistes et Phalanges\"**, a french fantasy novel I wrote over the 10 past years, wich I hope will be fair enough in term of data inputs. It contains more than 830 000 charaters.\n",
        "\n",
        "By the way, if you're a french reader and found of fantasy, you can find it on iBook store and Amazon Kindle for free... Please note I provide also the data for free on my github repository. Enjoy it!\n",
        "\n",
        "## 1. a Neural Network for Generating Sentences\n",
        "\n",
        "The first step is to generate sentences in the style of a given author.\n",
        "\n",
        "There is huge litterature about it, espacially using LSTM to perform such task. As this kind of network are working well for this job, we will use them.\n",
        "\n",
        "The purpose of this note is not to deep dive into LSTM description, you can find very great article about them and I suggest you to read [this article](http://karpathy.github.io/2015/05/21/rnn-effectiveness/) from Andrej Karpathy.\n",
        "\n",
        "You can also find easily existing code to perform text generation using LSTM. On my github, you can find two tutorials, one using [Tensorflow](https://github.com/campdav/text-rnn-tensorflow), and another one using [Keras](https://github.com/campdav/text-rnn-keras) (over tensorflow), that is easier to understand.\n",
        "\n",
        "For this first part of these exercice, I will re-use these materials, but with few improvements :\n",
        " - Instead of a simple _LSTM_, I will use a _bidirectional LSTM_. This network configuration converge faster than a single LSTM (less epochs are required), and from empiric tests, seems better in term of accuracy. You can have a look at [this article](https://machinelearningmastery.com/develop-bidirectional-lstm-sequence-classification-python-keras/) from Jason Brownlee, for a good tutorial about bidirectional LSTM.\n",
        " - I will use Keras, which require less complexity to create the network of is more readible than conventional Tensorflow code.\n",
        "\n",
        "### 1.1. What is the neural network task in our case ?\n",
        "\n",
        "LSTM (Long Short Term Memory) are very good for analysing sequences of values and predicting the next values from them. For example, LSTM could be a very good choice if you want to predict the very next point of a given time serie (assuming a correlation exist in the sequence).\n",
        "\n",
        "Talking about sentences and texts ; phrases (sentences) are basically sequences of words. So, it is natural to assume LSTM could be usefull to generate the next word of a given sentence.\n",
        "\n",
        "In summary, the objective of a LSTM neural network in this situation is to guess the next word of a given sentence.\n",
        "\n",
        "For example:\n",
        "What is the next word of this following sentence : \"he is walking down the\"\n",
        "\n",
        "Our neural net will take the sequence of words as input : \"he\", \"is\", \"walking\", ...\n",
        "Its ouput will be a matrix providing the probability for each word from the dictionnary to be the next one of the given sentence.\n",
        "\n",
        "Then, how will we build the complete text ? Simply iterating the process, by switching the setence by one word, including the new guessed word at its end. Then, we guess a new word for this new sentence. ad vitam aeternam.\n",
        "\n",
        "### 1.1.1. Process\n",
        "\n",
        "In order to do that, first, we build a dictionary containing all words from the novels we want to use.\n",
        "\n",
        " 1. read the data (the novels we want to use),\n",
        " 1. create the dictionnary of words,\n",
        " 2. create the list of sentences,\n",
        " 3. create the neural network,\n",
        " 4. train the neural network,\n",
        " 5. generate new sentences."
      ]
    },
    {
      "cell_type": "code",
      "metadata": {
        "id": "CU75RlXnzEJP",
        "colab_type": "code",
        "colab": {},
        "outputId": "e388fb58-a3b6-4226-b1a4-511b96d3e971"
      },
      "source": [
        "from __future__ import print_function\n",
        "from keras.models import Sequential, Model\n",
        "from keras.layers import Dense, Activation, Dropout\n",
        "from keras.layers import LSTM, Input, Flatten, Bidirectional\n",
        "from keras.layers.normalization import BatchNormalization\n",
        "from keras.optimizers import Adam\n",
        "from keras.callbacks import EarlyStopping, ModelCheckpoint\n",
        "from keras.metrics import categorical_accuracy\n",
        "import numpy as np\n",
        "import random\n",
        "import sys\n",
        "import os\n",
        "import time\n",
        "import codecs\n",
        "import collections\n",
        "from six.moves import cPickle"
      ],
      "execution_count": 0,
      "outputs": [
        {
          "output_type": "stream",
          "text": [
            "Using TensorFlow backend.\n"
          ],
          "name": "stderr"
        }
      ]
    },
    {
      "cell_type": "markdown",
      "metadata": {
        "id": "Hh0PYLONzEJa",
        "colab_type": "text"
      },
      "source": [
        "We have raw text and a lot of things have to be done to use them: split them in words list, etc.\n",
        "In order to do that, I use the spacy library which is incredible to deal with texts. For this exercice, I will only use very few options from spacy."
      ]
    },
    {
      "cell_type": "code",
      "metadata": {
        "collapsed": true,
        "id": "K_VMsQgfzEJc",
        "colab_type": "code",
        "colab": {}
      },
      "source": [
        "#import spacy, and french model\n",
        "import spacy\n",
        "nlp = spacy.load('fr')"
      ],
      "execution_count": 0,
      "outputs": []
    },
    {
      "cell_type": "markdown",
      "metadata": {
        "id": "ROSfmk9VzEJn",
        "colab_type": "text"
      },
      "source": [
        "# parameters"
      ]
    },
    {
      "cell_type": "code",
      "metadata": {
        "collapsed": true,
        "id": "pT9LSpDZzEJp",
        "colab_type": "code",
        "colab": {}
      },
      "source": [
        "data_dir = 'data/Artistes_et_Phalanges-David_Campion'# data directory containing input.txt\n",
        "save_dir = 'save' # directory to store models\n",
        "seq_length = 30 # sequence length\n",
        "sequences_step = 1 #step to create sequences"
      ],
      "execution_count": 0,
      "outputs": []
    },
    {
      "cell_type": "code",
      "metadata": {
        "collapsed": true,
        "id": "MxTRD692zEJ4",
        "colab_type": "code",
        "colab": {}
      },
      "source": [
        "file_list = [\"101\",\"102\",\"103\",\"104\",\"105\",\"106\",\"107\",\"108\",\"109\",\"110\",\"111\",\"112\",\"201\",\"202\",\"203\",\"204\",\"205\",\"206\",\"207\",\"208\",\"209\",\"210\",\"211\",\"212\",\"213\",\"214\",\"301\",\"302\",\"303\",\"304\",\"305\",\"306\",\"307\",\"308\",\"309\",\"310\",\"311\",\"312\",\"313\",\"314\",\"401\",\"402\",\"403\",\"404\",\"405\",\"406\",\"407\",\"408\",\"409\",\"410\",\"411\",\"412\"]\n",
        "\n",
        "vocab_file = os.path.join(save_dir, \"words_vocab.pkl\")"
      ],
      "execution_count": 0,
      "outputs": []
    },
    {
      "cell_type": "markdown",
      "metadata": {
        "id": "elts7qOqzEJ-",
        "colab_type": "text"
      },
      "source": [
        "# read data\n",
        "\n",
        "I create a specific function to create a list of words from raw text. I use spacy library, with a specific function to retrieve only lower character of the words and remove carriage returns (\\n).\n",
        "\n",
        "I am doing that because I want to reduce the number of potential words in my dictionnary, and I assume we do not have to avoid capital letters. Indeed, they are only part of the syntax of the text, it's shape, and do not deals with its sense."
      ]
    },
    {
      "cell_type": "code",
      "metadata": {
        "collapsed": true,
        "id": "tXEyTYsczEJ_",
        "colab_type": "code",
        "colab": {}
      },
      "source": [
        "def create_wordlist(doc):\n",
        "    wl = []\n",
        "    for word in doc:\n",
        "        if word.text not in (\"\\n\",\"\\n\\n\",'\\u2009','\\xa0'):\n",
        "            wl.append(word.text.lower())\n",
        "    return wl"
      ],
      "execution_count": 0,
      "outputs": []
    },
    {
      "cell_type": "markdown",
      "metadata": {
        "id": "OGXmxS_czEKG",
        "colab_type": "text"
      },
      "source": [
        "Create the list of sentences:"
      ]
    },
    {
      "cell_type": "code",
      "metadata": {
        "collapsed": true,
        "id": "8nBmsiRwzEKI",
        "colab_type": "code",
        "colab": {}
      },
      "source": [
        "wordlist = []\n",
        "for file_name in file_list:\n",
        "    input_file = os.path.join(data_dir, file_name + \".txt\")\n",
        "    #read data\n",
        "    with codecs.open(input_file, \"r\") as f:\n",
        "        data = f.read()\n",
        "    #create sentences\n",
        "    doc = nlp(data)\n",
        "    wl = create_wordlist(doc)\n",
        "    wordlist = wordlist + wl"
      ],
      "execution_count": 0,
      "outputs": []
    },
    {
      "cell_type": "markdown",
      "metadata": {
        "id": "4rZ_dn6IzEKP",
        "colab_type": "text"
      },
      "source": [
        "## Create dictionnary\n",
        "\n",
        "The first step is to create the dictionnary, it means, the list of all words contained in texts. For each word, we will assign an index to it. "
      ]
    },
    {
      "cell_type": "code",
      "metadata": {
        "id": "q1kTp5dZzEKQ",
        "colab_type": "code",
        "colab": {},
        "outputId": "56733aa3-decf-4770-a769-5bcbf27fc330"
      },
      "source": [
        "# count the number of words\n",
        "word_counts = collections.Counter(wordlist)\n",
        "\n",
        "# Mapping from index to word : that's the vocabulary\n",
        "vocabulary_inv = [x[0] for x in word_counts.most_common()]\n",
        "vocabulary_inv = list(sorted(vocabulary_inv))\n",
        "\n",
        "# Mapping from word to index\n",
        "vocab = {x: i for i, x in enumerate(vocabulary_inv)}\n",
        "words = [x[0] for x in word_counts.most_common()]\n",
        "\n",
        "#size of the vocabulary\n",
        "vocab_size = len(words)\n",
        "print(\"vocab size: \", vocab_size)\n",
        "\n",
        "#save the words and vocabulary\n",
        "with open(os.path.join(vocab_file), 'wb') as f:\n",
        "    cPickle.dump((words, vocab, vocabulary_inv), f)"
      ],
      "execution_count": 0,
      "outputs": [
        {
          "output_type": "stream",
          "text": [
            "vocab size:  11485\n"
          ],
          "name": "stdout"
        }
      ]
    },
    {
      "cell_type": "markdown",
      "metadata": {
        "id": "WbvTZl1fzEKU",
        "colab_type": "text"
      },
      "source": [
        "## create sequences\n",
        "Now, we have to create the input data for our LSTM. We create two lists:\n",
        " - **sequences**: this list will contain the sequences of words used to train the model,\n",
        " - **next_words**: this list will contain the next words for each sequences of the **sequences** list.\n",
        " \n",
        "In this exercice, we assume we will train the network with sequences of 30 words (seq_length = 30).\n",
        "\n",
        "So, to create the first sequence of words, we take the 30th first words in the **wordlist** list. The word 31 is the next word of this first sequence, and is added to the **next_words** list.\n",
        "\n",
        "Then we jump by a step of 1 (sequences_step = 1 in our example) in the list of words, to create the second sequence of words and retrieve the second \"next word\".\n",
        "\n",
        "We iterate this task until the end of the list of words."
      ]
    },
    {
      "cell_type": "code",
      "metadata": {
        "id": "PBhLP9HAzEKV",
        "colab_type": "code",
        "colab": {},
        "outputId": "d5b5ceeb-1000-4de6-cf6c-d87355c1783b"
      },
      "source": [
        "#create sequences\n",
        "sequences = []\n",
        "next_words = []\n",
        "for i in range(0, len(wordlist) - seq_length, sequences_step):\n",
        "    sequences.append(wordlist[i: i + seq_length])\n",
        "    next_words.append(wordlist[i + seq_length])\n",
        "\n",
        "print('nb sequences:', len(sequences))"
      ],
      "execution_count": 0,
      "outputs": [
        {
          "output_type": "stream",
          "text": [
            "nb sequences: 172104\n"
          ],
          "name": "stdout"
        }
      ]
    },
    {
      "cell_type": "markdown",
      "metadata": {
        "id": "O-EA3L9BzEKY",
        "colab_type": "text"
      },
      "source": [
        "When we iterate over the whole list of words, we create 172104 sequences of words, and retrieve, for each of them, the next word to be predicted.\n",
        "\n",
        "However, these lists cannot be used \"as is\". We have to transform them in order to ingest them in the LSTM. Text will not be understood by neural net, we have to use digits.\n",
        "However, we cannot only map a words to its index in the vocabulary, as it does not represent intrasinqly the word. It is better to reorganize a sequence of words as a matrix of booleans.\n",
        "\n",
        "So, we create the matrix X and y :\n",
        " - X : the matrix of the following dimensions:\n",
        "     - number of sequences,\n",
        "     - number of words in sequences,\n",
        "     - number of words in the vocabulary.\n",
        " - y : the matrix of the following dimensions:\n",
        "     - number of sequences,\n",
        "     - number of words in the vocabulary.\n",
        " \n",
        "For each word, we retrieve its index in the vocabulary, and we set to 1 its position in the matrix."
      ]
    },
    {
      "cell_type": "code",
      "metadata": {
        "collapsed": true,
        "id": "fnYtyF3BzEKY",
        "colab_type": "code",
        "colab": {}
      },
      "source": [
        "X = np.zeros((len(sequences), seq_length, vocab_size), dtype=np.bool)\n",
        "y = np.zeros((len(sequences), vocab_size), dtype=np.bool)\n",
        "for i, sentence in enumerate(sequences):\n",
        "    for t, word in enumerate(sentence):\n",
        "        X[i, t, vocab[word]] = 1\n",
        "    y[i, vocab[next_words[i]]] = 1"
      ],
      "execution_count": 0,
      "outputs": []
    },
    {
      "cell_type": "markdown",
      "metadata": {
        "id": "chOQgyC2zEKe",
        "colab_type": "text"
      },
      "source": [
        "# Build Model"
      ]
    },
    {
      "cell_type": "markdown",
      "metadata": {
        "id": "hBKdFD2mzEKg",
        "colab_type": "text"
      },
      "source": [
        "Now, here come the fun part. The creation of the neural network.\n",
        "As you will see, I am using Keras which provide very good abstraction to design an architecture.\n",
        "\n",
        "In this example, I create the following neural network:\n",
        " - bidirectional LSTM,\n",
        " - with size of 256 and using RELU as activation,\n",
        " - then a dropout layer of 0,6 (it's pretty high, but necesseray to avoid quick divergence)\n",
        " \n",
        "\n",
        "The net should provide me a probability for each word of the vocabulary to be the next one after a given sentence. So I end it with:\n",
        "\n",
        " - a simple dense layer of the size of the vocabulary,\n",
        " - a softmax activation.\n",
        " \n",
        "I use ADAM as otpimizer and the loss calculation is done on the categorical crossentropy.\n",
        "\n",
        "Here is the function to build the network:"
      ]
    },
    {
      "cell_type": "code",
      "metadata": {
        "collapsed": true,
        "id": "ytzQH-VQzEKh",
        "colab_type": "code",
        "colab": {}
      },
      "source": [
        "def bidirectional_lstm_model(seq_length, vocab_size):\n",
        "    print('Build LSTM model.')\n",
        "    model = Sequential()\n",
        "    model.add(Bidirectional(LSTM(rnn_size, activation=\"relu\"),input_shape=(seq_length, vocab_size)))\n",
        "    model.add(Dropout(0.6))\n",
        "    model.add(Dense(vocab_size))\n",
        "    model.add(Activation('softmax'))\n",
        "    \n",
        "    optimizer = Adam(lr=learning_rate)\n",
        "    callbacks=[EarlyStopping(patience=2, monitor='val_loss')]\n",
        "    model.compile(loss='categorical_crossentropy', optimizer=optimizer, metrics=[categorical_accuracy])\n",
        "    return model"
      ],
      "execution_count": 0,
      "outputs": []
    },
    {
      "cell_type": "code",
      "metadata": {
        "collapsed": true,
        "id": "44BE7OPhzEKn",
        "colab_type": "code",
        "colab": {}
      },
      "source": [
        "rnn_size = 256 # size of RNN\n",
        "batch_size = 32 # minibatch size\n",
        "seq_length = 30 # sequence length\n",
        "num_epochs = 50 # number of epochs\n",
        "learning_rate = 0.001 #learning rate\n",
        "sequences_step = 1 #step to create sequences"
      ],
      "execution_count": 0,
      "outputs": []
    },
    {
      "cell_type": "code",
      "metadata": {
        "id": "mnOGJz0czEKr",
        "colab_type": "code",
        "colab": {},
        "outputId": "0a5cd519-a57b-4269-8f83-7343429d2ef1"
      },
      "source": [
        "md = bidirectional_lstm_model(seq_length, vocab_size)\n",
        "md.summary()"
      ],
      "execution_count": 0,
      "outputs": [
        {
          "output_type": "stream",
          "text": [
            "Build LSTM model.\n",
            "_________________________________________________________________\n",
            "Layer (type)                 Output Shape              Param #   \n",
            "=================================================================\n",
            "bidirectional_1 (Bidirection (None, 512)               24047616  \n",
            "_________________________________________________________________\n",
            "dropout_1 (Dropout)          (None, 512)               0         \n",
            "_________________________________________________________________\n",
            "dense_1 (Dense)              (None, 11485)             5891805   \n",
            "_________________________________________________________________\n",
            "activation_1 (Activation)    (None, 11485)             0         \n",
            "=================================================================\n",
            "Total params: 29,939,421\n",
            "Trainable params: 29,939,421\n",
            "Non-trainable params: 0\n",
            "_________________________________________________________________\n"
          ],
          "name": "stdout"
        }
      ]
    },
    {
      "cell_type": "markdown",
      "metadata": {
        "id": "nt5TZrx4zEKv",
        "colab_type": "text"
      },
      "source": [
        "If a print the summary of this model, you can see it has close to 61 millions of trainable parameters. It is huge, and the compute will take some time to complete."
      ]
    },
    {
      "cell_type": "markdown",
      "metadata": {
        "id": "L3DyxTZBzEKw",
        "colab_type": "text"
      },
      "source": [
        "## train data"
      ]
    },
    {
      "cell_type": "markdown",
      "metadata": {
        "id": "Du_bTP8mzEKx",
        "colab_type": "text"
      },
      "source": [
        "Enough speech, we train the model now. We shuffle the training set and extract 10% of it as validation sample. We simply run :"
      ]
    },
    {
      "cell_type": "code",
      "metadata": {
        "scrolled": true,
        "id": "SNmYA7_-zEKy",
        "colab_type": "code",
        "colab": {},
        "outputId": "3cf4e930-2c7e-4bce-f5d3-533a070a0596"
      },
      "source": [
        "#fit the model\n",
        "callbacks=[EarlyStopping(patience=4, monitor='val_loss'),\n",
        "           ModelCheckpoint(filepath=save_dir + \"/\" + 'my_model_gen_sentences_lstm.{epoch:02d}-{val_loss:.2f}.hdf5',\\\n",
        "                           monitor='val_loss', verbose=0, mode='auto', period=2)]\n",
        "history = md.fit(X, y,\n",
        "                 batch_size=batch_size,\n",
        "                 shuffle=True,\n",
        "                 epochs=num_epochs,\n",
        "                 callbacks=callbacks,\n",
        "                 validation_split=0.01)"
      ],
      "execution_count": 0,
      "outputs": [
        {
          "output_type": "stream",
          "text": [
            "Train on 170382 samples, validate on 1722 samples\n",
            "Epoch 1/50\n",
            "170382/170382 [==============================] - 23092s - loss: 7.2618 - categorical_accuracy: 0.0681 - val_loss: 6.0351 - val_categorical_accuracy: 0.1132\n",
            "Epoch 2/50\n",
            "170382/170382 [==============================] - 39785s - loss: 5.4727 - categorical_accuracy: 0.1426 - val_loss: 5.7436 - val_categorical_accuracy: 0.1434\n",
            "Epoch 3/50\n",
            "170382/170382 [==============================] - 22108s - loss: 5.0162 - categorical_accuracy: 0.1743 - val_loss: 5.6341 - val_categorical_accuracy: 0.1533\n",
            "Epoch 4/50\n",
            "170382/170382 [==============================] - 21264s - loss: 4.3317 - categorical_accuracy: 0.2391 - val_loss: 5.6175 - val_categorical_accuracy: 0.1574\n",
            "Epoch 6/50\n",
            "170382/170382 [==============================] - 18687s - loss: 4.0086 - categorical_accuracy: 0.2782 - val_loss: 5.6605 - val_categorical_accuracy: 0.1551\n",
            "Epoch 7/50\n",
            "170382/170382 [==============================] - 23049s - loss: 3.6999 - categorical_accuracy: 0.3185 - val_loss: 5.7656 - val_categorical_accuracy: 0.1440\n",
            "Epoch 8/50\n",
            "170382/170382 [==============================] - 20537s - loss: 3.4077 - categorical_accuracy: 0.3618 - val_loss: 5.8485 - val_categorical_accuracy: 0.1370\n",
            "Epoch 9/50\n",
            "170382/170382 [==============================] - 32392s - loss: 3.1377 - categorical_accuracy: 0.4028 - val_loss: 5.9954 - val_categorical_accuracy: 0.1289\n"
          ],
          "name": "stdout"
        }
      ]
    },
    {
      "cell_type": "code",
      "metadata": {
        "id": "ImKWL0AZzEK3",
        "colab_type": "code",
        "colab": {},
        "outputId": "00416037-7289-45ad-99b0-f52c1fdd9fc2"
      },
      "source": [
        "#save the model\n",
        "md.save(save_dir + \"/\" + 'my_model_gen_sentences_lstm.final.hdf5')"
      ],
      "execution_count": 0,
      "outputs": [
        {
          "output_type": "stream",
          "text": [
            "test\n"
          ],
          "name": "stdout"
        }
      ]
    },
    {
      "cell_type": "markdown",
      "metadata": {
        "id": "Ux0UkQtbzELA",
        "colab_type": "text"
      },
      "source": [
        "# Generate phrase"
      ]
    },
    {
      "cell_type": "markdown",
      "metadata": {
        "id": "9SWrJOiDzELB",
        "colab_type": "text"
      },
      "source": [
        "Great !\n",
        "We have now trained a model to predict the next word of a given sequence of words. In order to generate text, the task is pretty simple:\n",
        "\n",
        " - we define a \"seed\" sequence of 30 words (30 is the number of words required by the neural net for the sequences),\n",
        " - we ask the neural net to predict word number 31,\n",
        " - then we update the sequence by moving words by a step of 1, adding words number 31 at its end,\n",
        " - we ask the neural net to predict word number 32,\n",
        " - etc. For as long as we want.\n",
        " \n",
        "Doing this, we generate phrases, word by word."
      ]
    },
    {
      "cell_type": "code",
      "metadata": {
        "id": "pdn6tQP4zELD",
        "colab_type": "code",
        "colab": {},
        "outputId": "388e2c5b-685f-4078-b933-c6f2680086b4"
      },
      "source": [
        "#load vocabulary\n",
        "print(\"loading vocabulary...\")\n",
        "vocab_file = os.path.join(save_dir, \"words_vocab.pkl\")\n",
        "\n",
        "with open(os.path.join(save_dir, 'words_vocab.pkl'), 'rb') as f:\n",
        "        words, vocab, vocabulary_inv = cPickle.load(f)\n",
        "\n",
        "vocab_size = len(words)"
      ],
      "execution_count": 0,
      "outputs": [
        {
          "output_type": "stream",
          "text": [
            "loading vocabulary...\n"
          ],
          "name": "stdout"
        }
      ]
    },
    {
      "cell_type": "code",
      "metadata": {
        "id": "ndecUsm7zELL",
        "colab_type": "code",
        "colab": {},
        "outputId": "32fc97c3-b571-474c-d6ca-b07e0d67506f"
      },
      "source": [
        "from keras.models import load_model\n",
        "# load the model\n",
        "print(\"loading model...\")\n",
        "model = load_model(save_dir + \"/\" + 'my_model_gen_sentences_lstm.final.hdf5')"
      ],
      "execution_count": 0,
      "outputs": [
        {
          "output_type": "stream",
          "text": [
            "loading model...\n"
          ],
          "name": "stdout"
        }
      ]
    },
    {
      "cell_type": "markdown",
      "metadata": {
        "id": "leBd6tlKzELS",
        "colab_type": "text"
      },
      "source": [
        "To improve the word generation, and tune a bit the prediction, we introduce a specific function to pick-up words.\n",
        "\n",
        "We will not take the words with the highest prediction (or the generation of text will be boring), but would like to insert some uncertainties, and let the solution sometime pick-up words with less good prediction.\n",
        "\n",
        "That is the purpose of the function **sample**, that will draw radomly a word from the vocabulary.\n",
        "\n",
        "The probabilty for a word to be drawn will depends directly on its probability to be the next word. In order to tune this probability, we introduce a \"temperature\" to smooth or sharpen its value."
      ]
    },
    {
      "cell_type": "code",
      "metadata": {
        "collapsed": true,
        "id": "_Q9jIjefzELT",
        "colab_type": "code",
        "colab": {}
      },
      "source": [
        "def sample(preds, temperature=1.0):\n",
        "    # helper function to sample an index from a probability array\n",
        "    preds = np.asarray(preds).astype('float64')\n",
        "    preds = np.log(preds) / temperature\n",
        "    exp_preds = np.exp(preds)\n",
        "    preds = exp_preds / np.sum(exp_preds)\n",
        "    probas = np.random.multinomial(1, preds, 1)\n",
        "    return np.argmax(probas)"
      ],
      "execution_count": 0,
      "outputs": []
    },
    {
      "cell_type": "code",
      "metadata": {
        "id": "3IVvz_I6zELW",
        "colab_type": "code",
        "colab": {},
        "outputId": "56371e1a-18ef-4faf-f4d8-4f4f16e12f3f"
      },
      "source": [
        "#initiate sentences\n",
        "seed_sentences = \"nolan avance sur le chemin de pierre et grimpe les marches .\"\n",
        "generated = ''\n",
        "sentence = []\n",
        "for i in range (seq_length):\n",
        "    sentence.append(\"a\")\n",
        "\n",
        "seed = seed_sentences.split()\n",
        "\n",
        "for i in range(len(seed)):\n",
        "    sentence[seq_length-i-1]=seed[len(seed)-i-1]\n",
        "\n",
        "generated += ' '.join(sentence)\n",
        "print('Generating text with the following seed: \"' + ' '.join(sentence) + '\"')\n",
        "\n",
        "print ()"
      ],
      "execution_count": 0,
      "outputs": [
        {
          "output_type": "stream",
          "text": [
            "Generating text with the following seed: \"a a a a a a a a a a a a a a a a a a nolan avance sur le chemin de pierre et grimpe les marches .\"\n",
            "\n"
          ],
          "name": "stdout"
        }
      ]
    },
    {
      "cell_type": "code",
      "metadata": {
        "id": "PjDfs121zELb",
        "colab_type": "code",
        "colab": {},
        "outputId": "1d8ce777-37b2-432b-c5e0-9f608c875941"
      },
      "source": [
        "words_number = 100\n",
        "#generate the text\n",
        "for i in range(words_number):\n",
        "    #create the vector\n",
        "    x = np.zeros((1, seq_length, vocab_size))\n",
        "    for t, word in enumerate(sentence):\n",
        "        x[0, t, vocab[word]] = 1.\n",
        "    #print(x.shape)\n",
        "\n",
        "    #calculate next word\n",
        "    preds = model.predict(x, verbose=0)[0]\n",
        "    next_index = sample(preds, 0.34)\n",
        "    next_word = vocabulary_inv[next_index]\n",
        "\n",
        "    #add the next word to the text\n",
        "    generated += \" \" + next_word\n",
        "    # shift the sentence by one, and and the next word at its end\n",
        "    sentence = sentence[1:] + [next_word]\n",
        "\n",
        "print(generated)\n"
      ],
      "execution_count": 0,
      "outputs": [
        {
          "output_type": "stream",
          "text": [
            "a a a a a a a a a a a a a a a a a a nolan avance sur le chemin de pierre et grimpe les marches . — oui , je vais vous expliquer . nous allons devoir être trop loin de cette cité … le jeune homme s’ est à l’ air de la citadelle . — c’ est vrai , mais je ne sais pas ce que je suis d’ accord avec toi , vous êtes bien comme des artistes . — je ne vois pas , ajoute nolan en secouant la tête . — je peux pas ces derniers jours … je ne peux pas être en ce moment , je suis d’ accord … et … nolan ne peut pas se faire confiance\n"
          ],
          "name": "stdout"
        }
      ]
    },
    {
      "cell_type": "code",
      "metadata": {
        "collapsed": true,
        "id": "ITUcp7GUzELf",
        "colab_type": "code",
        "colab": {}
      },
      "source": [
        ""
      ],
      "execution_count": 0,
      "outputs": []
    }
  ]
}