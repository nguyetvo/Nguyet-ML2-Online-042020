{
 "cells": [
  {
   "cell_type": "markdown",
   "metadata": {
    "colab_type": "text",
    "id": "KnipcyPOvNmX"
   },
   "source": [
    "# Logistic Regression\n",
    "\n",
    "![](http://rasbt.github.io/mlxtend/user_guide/classifier/LogisticRegression_files/logistic_regression_schematic.png)"
   ]
  },
  {
   "cell_type": "markdown",
   "metadata": {
    "colab_type": "text",
    "id": "ShXCrJUpvSQI"
   },
   "source": [
    "## Overview\n",
    "\n",
    "Logistic regression is a classification algorithm, used to estimate probabilities (Binary values like 0/1, yes/no, true/false) based on given set of independent variable(s). Its output values lies between 0 and 1. Prior to building a model, the features values are transformed using the logistic function (Sigmoid) to produce probability values that can be mapped to two or more classes.\n",
    "\n",
    "## Linear vs Logistic\n",
    "\n",
    "Given data on time spent studying and exam scores. Linear Regression and logistic regression can predict different things:\n",
    "\n",
    "**Linear Regression** could help predict the student's test score on a scale of 0 - 100. Linear regression predictions are continuous (numbers in a range).\n",
    "\n",
    "**Logistic Regression** could help use predict whether the student passed or failed. Logistic regression predictions are discrete (only specific values or categories are allowed) and just view probability scores underlying the model's classifications.\n",
    "\n",
    "**Variations**\n",
    "- Binary: (Pass/Fail)\n",
    "- Multi: (Cats, Dogs, Sheep)\n",
    "- Ordinal: (Low, Medium, High)\n",
    "\n",
    "## Advantages\n",
    "\n",
    "- Pros: Easy to implement, fast to train, returns probability scores\n",
    "\n",
    "- Cons: Bad when too many features or too many classifications\n"
   ]
  },
  {
   "cell_type": "markdown",
   "metadata": {
    "colab_type": "text",
    "id": "wrtOFV-A-7pl"
   },
   "source": [
    "The following implemation is similar to Logistic Regression except that we replace the MSE cost function with the logistic cost function\n",
    "\n",
    "$$J(w, b) = \\sum_{i=1}^{m} - y^{(i)} log \\bigg( \\sigma\\big(z^{(i)}\\big) \\bigg) - \\big(1 - y^{(i)}\\big) log\\bigg(1-\\sigma\\big(z^{(i)}\\big)\\bigg)$$\n",
    "\n",
    "where $\\sigma(z)$ is the sigmoid function:\n",
    "\n",
    "$$\n",
    "\\sigma(z) = \\frac{1}{1 + e^{-z}}\n",
    "$$\n",
    "\n",
    "and z is\n",
    "\n",
    "$$\n",
    "z = \\sum_{i=0}^{m}w_ix_i\n",
    "$$"
   ]
  },
  {
   "cell_type": "markdown",
   "metadata": {
    "colab_type": "text",
    "id": "6S0XRliCtyOW"
   },
   "source": [
    "## 1. Review - Logistic Regression Using Scikit Learn"
   ]
  },
  {
   "cell_type": "code",
   "execution_count": 0,
   "metadata": {
    "colab": {
     "base_uri": "https://localhost:8080/",
     "height": 125
    },
    "colab_type": "code",
    "id": "4P0Lgf9trtFs",
    "outputId": "48186636-c699-4be4-c5cf-d94eec2927a3"
   },
   "outputs": [
    {
     "name": "stdout",
     "output_type": "stream",
     "text": [
      "Go to this URL in a browser: https://accounts.google.com/o/oauth2/auth?client_id=947318989803-6bn6qk8qdgf4n4g3pfee6491hc0brc4i.apps.googleusercontent.com&redirect_uri=urn%3aietf%3awg%3aoauth%3a2.0%3aoob&response_type=code&scope=email%20https%3a%2f%2fwww.googleapis.com%2fauth%2fdocs.test%20https%3a%2f%2fwww.googleapis.com%2fauth%2fdrive%20https%3a%2f%2fwww.googleapis.com%2fauth%2fdrive.photos.readonly%20https%3a%2f%2fwww.googleapis.com%2fauth%2fpeopleapi.readonly\n",
      "\n",
      "Enter your authorization code:\n",
      "··········\n",
      "Mounted at gdrive\n"
     ]
    }
   ],
   "source": [
    "from google.colab import drive\n",
    "drive.mount('gdrive')"
   ]
  },
  {
   "cell_type": "code",
   "execution_count": 0,
   "metadata": {
    "colab": {},
    "colab_type": "code",
    "id": "PTA4WYyRn7Cy"
   },
   "outputs": [],
   "source": [
    "import numpy as np\n",
    "import pandas as pd\n",
    "import matplotlib.pyplot as plt\n",
    "\n",
    "import warnings # This is just to hide the warnings, you don't have to worry about this\n",
    "warnings.simplefilter(action='ignore', category=FutureWarning)\n",
    "\n",
    "%matplotlib inline"
   ]
  },
  {
   "cell_type": "code",
   "execution_count": 0,
   "metadata": {
    "colab": {},
    "colab_type": "code",
    "id": "OeClX2bEn88i"
   },
   "outputs": [],
   "source": [
    "# Read data\n",
    "df = pd.read_csv('/content/gdrive/My Drive/Data/data_classification.csv')"
   ]
  },
  {
   "cell_type": "code",
   "execution_count": 0,
   "metadata": {
    "colab": {
     "base_uri": "https://localhost:8080/",
     "height": 199
    },
    "colab_type": "code",
    "id": "xwxqjzxXrm5f",
    "outputId": "54b4f8aa-f864-4c96-cd4c-e4a2e1ae4d44"
   },
   "outputs": [
    {
     "data": {
      "text/html": [
       "<div>\n",
       "<style scoped>\n",
       "    .dataframe tbody tr th:only-of-type {\n",
       "        vertical-align: middle;\n",
       "    }\n",
       "\n",
       "    .dataframe tbody tr th {\n",
       "        vertical-align: top;\n",
       "    }\n",
       "\n",
       "    .dataframe thead th {\n",
       "        text-align: right;\n",
       "    }\n",
       "</style>\n",
       "<table border=\"1\" class=\"dataframe\">\n",
       "  <thead>\n",
       "    <tr style=\"text-align: right;\">\n",
       "      <th></th>\n",
       "      <th>Studied</th>\n",
       "      <th>Slept</th>\n",
       "      <th>Passed</th>\n",
       "    </tr>\n",
       "  </thead>\n",
       "  <tbody>\n",
       "    <tr>\n",
       "      <th>0</th>\n",
       "      <td>4.855064</td>\n",
       "      <td>9.639962</td>\n",
       "      <td>1</td>\n",
       "    </tr>\n",
       "    <tr>\n",
       "      <th>1</th>\n",
       "      <td>8.625440</td>\n",
       "      <td>0.058927</td>\n",
       "      <td>0</td>\n",
       "    </tr>\n",
       "    <tr>\n",
       "      <th>2</th>\n",
       "      <td>3.828192</td>\n",
       "      <td>0.723199</td>\n",
       "      <td>0</td>\n",
       "    </tr>\n",
       "    <tr>\n",
       "      <th>3</th>\n",
       "      <td>7.150955</td>\n",
       "      <td>3.899420</td>\n",
       "      <td>1</td>\n",
       "    </tr>\n",
       "    <tr>\n",
       "      <th>4</th>\n",
       "      <td>6.477900</td>\n",
       "      <td>8.198181</td>\n",
       "      <td>1</td>\n",
       "    </tr>\n",
       "  </tbody>\n",
       "</table>\n",
       "</div>"
      ],
      "text/plain": [
       "    Studied     Slept  Passed\n",
       "0  4.855064  9.639962       1\n",
       "1  8.625440  0.058927       0\n",
       "2  3.828192  0.723199       0\n",
       "3  7.150955  3.899420       1\n",
       "4  6.477900  8.198181       1"
      ]
     },
     "execution_count": 4,
     "metadata": {
      "tags": []
     },
     "output_type": "execute_result"
    }
   ],
   "source": [
    "df.head()"
   ]
  },
  {
   "cell_type": "markdown",
   "metadata": {
    "colab_type": "text",
    "id": "Cwcvl0sMxup7"
   },
   "source": [
    "We are given a dataset about student exam results and our goal is to predict whether a student will pass or fail based on number of hours slept and hours spent studying. We have two features (hours slept, hours studied) and two classes: passed (1) and failed (0)."
   ]
  },
  {
   "cell_type": "code",
   "execution_count": 0,
   "metadata": {
    "colab": {
     "base_uri": "https://localhost:8080/",
     "height": 388
    },
    "colab_type": "code",
    "id": "nqXs1xUGFBY6",
    "outputId": "940f8774-2b20-44a1-d45b-75fa6cea2bc3"
   },
   "outputs": [
    {
     "data": {
      "image/png": "[encoded data removed]",
      "text/plain": [
       "<Figure size 720x432 with 1 Axes>"
      ]
     },
     "metadata": {
      "tags": []
     },
     "output_type": "display_data"
    }
   ],
   "source": [
    "# Visualization\n",
    "# Split the data to \"passed\" and \"failed\"\n",
    "X1_passed = df[df['Passed'] == 1]['Studied'].to_numpy()\n",
    "X2_passed = df[df['Passed'] == 1]['Slept'].to_numpy()\n",
    "X1_failed = df[df['Passed'] == 0]['Studied'].to_numpy()\n",
    "X2_failed = df[df['Passed'] == 0]['Slept'].to_numpy()\n",
    "\n",
    "# Plot the data\n",
    "plt.figure(figsize = (10,6))\n",
    "plt.scatter(X1_passed, X2_passed, label = 'Passed')\n",
    "plt.scatter(X1_failed, X2_failed, label = 'Failed')\n",
    "plt.xlabel('Study Hour')\n",
    "plt.ylabel('Slept Hour')\n",
    "plt.legend()\n",
    "plt.show()"
   ]
  },
  {
   "cell_type": "code",
   "execution_count": 0,
   "metadata": {
    "colab": {
     "base_uri": "https://localhost:8080/",
     "height": 318
    },
    "colab_type": "code",
    "id": "IcH6IXkfr0Fl",
    "outputId": "0570b5d6-8d7a-488d-dd9e-235078a27ebc"
   },
   "outputs": [
    {
     "name": "stdout",
     "output_type": "stream",
     "text": [
      "Mean Squared Error: 0.110000\n",
      "Accuracy Score: 0.890000\n",
      "Confusion Matrix:\n",
      "[[39  6]\n",
      " [ 5 50]]\n",
      "              precision    recall  f1-score   support\n",
      "\n",
      "           0       0.89      0.87      0.88        45\n",
      "           1       0.89      0.91      0.90        55\n",
      "\n",
      "    accuracy                           0.89       100\n",
      "   macro avg       0.89      0.89      0.89       100\n",
      "weighted avg       0.89      0.89      0.89       100\n",
      "\n"
     ]
    },
    {
     "name": "stderr",
     "output_type": "stream",
     "text": [
      "/usr/local/lib/python3.6/dist-packages/sklearn/utils/validation.py:760: DataConversionWarning: A column-vector y was passed when a 1d array was expected. Please change the shape of y to (n_samples, ), for example using ravel().\n",
      "  y = column_or_1d(y, warn=True)\n"
     ]
    }
   ],
   "source": [
    "# Create Logistic Regression model that \n",
    "from sklearn.linear_model import LogisticRegression\n",
    "from sklearn.metrics import mean_squared_error\n",
    "from sklearn.metrics import confusion_matrix, accuracy_score, classification_report\n",
    "\n",
    "# Set X and y\n",
    "X = df[['Studied','Slept']].to_numpy()\n",
    "y = df['Passed'].to_numpy().reshape(-1,1)\n",
    "\n",
    "# Create Logistics Regression model from X and y\n",
    "lg = LogisticRegression()\n",
    "lg.fit(X, y)\n",
    "\n",
    "predictions = lg.predict(X)\n",
    "\n",
    "# Show metrics\n",
    "print(\"Mean Squared Error: %f\" % mean_squared_error(y, lg.predict(X)))\n",
    "print(\"Accuracy Score: %f\" % accuracy_score(y, lg.predict(X)))\n",
    "print(\"Confusion Matrix:\")\n",
    "print(confusion_matrix(y, predictions))\n",
    "print(classification_report(y, predictions))"
   ]
  },
  {
   "cell_type": "markdown",
   "metadata": {
    "colab_type": "text",
    "id": "dktndSoAw01M"
   },
   "source": [
    "## 2. Logistics Regression From Scratch"
   ]
  },
  {
   "cell_type": "markdown",
   "metadata": {
    "colab_type": "text",
    "id": "nYWswhNmAH1n"
   },
   "source": [
    "### Prediction Model"
   ]
  },
  {
   "cell_type": "markdown",
   "metadata": {
    "colab_type": "text",
    "id": "04mJMOJRRegD"
   },
   "source": [
    "#### __Linear Equation__\n",
    "$$ z = b + w_1x_1 + w_2x_2 + ... + w_nx_n$$\n",
    "\n",
    "- $b$ (or $b_0$): bias (or constant, intercept)\n",
    "- $w_n$ (or $b_n$): weight (or coefficient)"
   ]
  },
  {
   "cell_type": "code",
   "execution_count": 0,
   "metadata": {
    "colab": {},
    "colab_type": "code",
    "id": "8md1ZBXVE3Ks"
   },
   "outputs": [],
   "source": [
    "# Initialize parameters\n",
    "m = X.shape[0]\n",
    "n = X.shape[1]\n",
    "w = np.zeros((n,1))\n",
    "b = np.zeros((1,1))\n",
    "\n",
    "# Predictiton\n",
    "def predict_linear(X, w, b):\n",
    "  return np.dot(X, w) + b"
   ]
  },
  {
   "cell_type": "markdown",
   "metadata": {
    "colab_type": "text",
    "id": "j5BhINM7KqTm"
   },
   "source": [
    "$$ \\sigma(z) = \\frac{1} {1 + e^{-z}} $$\n",
    "\n",
    "* **s(z)** = Sigmoid function to transform our output to a value between 0 and 1 (probability estimate)\n",
    "* z = output of linear function\n",
    "* e = base of natural log"
   ]
  },
  {
   "cell_type": "code",
   "execution_count": 0,
   "metadata": {
    "colab": {},
    "colab_type": "code",
    "id": "aagCXhwi5gfU"
   },
   "outputs": [],
   "source": [
    "# Sigmoid function\n",
    "def sigmoid(z):\n",
    "    return 1 / (1 + np.exp(-z))"
   ]
  },
  {
   "cell_type": "code",
   "execution_count": 0,
   "metadata": {
    "colab": {},
    "colab_type": "code",
    "id": "-74AXqiyWAj2"
   },
   "outputs": [],
   "source": [
    "# Combine linear regression predictions with sigmoid function:\n",
    "def predict(X, w, b):\n",
    "  \n",
    "    '''\n",
    "    Returns 1D array of probabilities\n",
    "    that y equals 1\n",
    "    '''\n",
    "    return  1 / (1 + np.exp(-(np.dot(X, w) + b)))"
   ]
  },
  {
   "cell_type": "code",
   "execution_count": 0,
   "metadata": {
    "colab": {
     "base_uri": "https://localhost:8080/",
     "height": 296
    },
    "colab_type": "code",
    "id": "s7DKR4X9W3Tm",
    "outputId": "498a6c07-728b-42ec-c911-3c0f3c5e5eb0"
   },
   "outputs": [
    {
     "data": {
      "image/png": "[encoded data removed]",
      "text/plain": [
       "<Figure size 864x360 with 2 Axes>"
      ]
     },
     "metadata": {
      "tags": []
     },
     "output_type": "display_data"
    }
   ],
   "source": [
    "# Visualize sigmoid function and compare with linear regression\n",
    "def plot_sigmoid(X):\n",
    "    a = []\n",
    "    for item in X:\n",
    "        a.append(sigmoid(item))\n",
    "    return a\n",
    "\n",
    "def plot_linear(X):\n",
    "  a = []\n",
    "  w = 1\n",
    "  b = 0\n",
    "  for item in X:\n",
    "      a.append(predict_linear(item, w, b))\n",
    "  return a\n",
    "\n",
    "X_plot = np.arange(-10., 10., 0.2)\n",
    "sig = plot_sigmoid(X_plot)\n",
    "y_linear = plot_linear(X_plot)\n",
    "\n",
    "plt.subplots(figsize = (12,5))\n",
    "\n",
    "plt.subplot(121)\n",
    "plt.plot(X_plot, y_linear)\n",
    "plt.title('Output of Linear Regression Function')\n",
    "\n",
    "plt.subplot(122)\n",
    "plt.plot(X_plot, sig)\n",
    "plt.title('Output of Sigmoid Function')\n",
    "\n",
    "plt.show()"
   ]
  },
  {
   "cell_type": "markdown",
   "metadata": {
    "colab_type": "text",
    "id": "ywr-h0xvdYD-"
   },
   "source": [
    "* If **s(z)** >= 0.5 then **y_hat** = 1\n",
    "* If **s(z)** < 0.5 then **y_hat** = 0"
   ]
  },
  {
   "cell_type": "code",
   "execution_count": 0,
   "metadata": {
    "colab": {},
    "colab_type": "code",
    "id": "JzfuTXz8oQu6"
   },
   "outputs": [],
   "source": [
    "# Decision Boundary function\n",
    "def decision_boundary(a, threshold):\n",
    "    return 1 if a >= threshold else 0"
   ]
  },
  {
   "cell_type": "code",
   "execution_count": 0,
   "metadata": {
    "colab": {},
    "colab_type": "code",
    "id": "RTeTkazcinAw"
   },
   "outputs": [],
   "source": [
    "# Vectorize the Decision Boundary function\n",
    "def classify(a, threshold):\n",
    "\n",
    "    global decision_boundary\n",
    "\n",
    "    decision_boundary = np.vectorize(decision_boundary)\n",
    "    return decision_boundary(a, threshold).flatten()"
   ]
  },
  {
   "cell_type": "code",
   "execution_count": 0,
   "metadata": {
    "colab": {
     "base_uri": "https://localhost:8080/",
     "height": 207
    },
    "colab_type": "code",
    "id": "NO27WHkGoeIX",
    "outputId": "c99e4c39-3a95-45ae-d49d-0e9269a8bdbb"
   },
   "outputs": [
    {
     "data": {
      "image/png": "[encoded data removed]",
      "text/plain": [
       "<Figure size 1296x360 with 3 Axes>"
      ]
     },
     "metadata": {
      "tags": []
     },
     "output_type": "display_data"
    }
   ],
   "source": [
    "# Visualize classify function\n",
    "\n",
    "threshold = 0.5 # Adjust this number\n",
    "\n",
    "sig_bin = classify(sig, threshold)\n",
    "\n",
    "threshold_plot = np.ones(len(X_plot)) * threshold\n",
    "\n",
    "plt.subplots(figsize = (18,5))\n",
    "\n",
    "plt.subplot(131)\n",
    "plt.plot(X_plot, y_linear)\n",
    "plt.title('Output of Linear Regression Function')\n",
    "\n",
    "plt.subplot(132)\n",
    "plt.plot(X_plot, sig)\n",
    "plt.plot(X_plot, threshold_plot, c = 'orange')\n",
    "plt.text(s = 'Decision Boundary = %s' % threshold, x = -10, y = threshold + .02)\n",
    "plt.title('Output of Sigmoid Function')\n",
    "\n",
    "plt.subplot(133)\n",
    "plt.scatter(X_plot, sig_bin)\n",
    "plt.plot(X_plot, threshold_plot, c = 'orange')\n",
    "plt.text(s = 'Decision Boundary = %s' % threshold, x = -10, y = threshold + .02)\n",
    "plt.yticks([0,1])\n",
    "plt.title('Output of Decision Boundary Function')\n",
    "\n",
    "plt.show()"
   ]
  },
  {
   "cell_type": "markdown",
   "metadata": {
    "colab_type": "text",
    "id": "FGNd7dZqtTdb"
   },
   "source": [
    "#### __Error(Lost) Function: Mean Absolute Error__"
   ]
  },
  {
   "cell_type": "markdown",
   "metadata": {
    "colab_type": "text",
    "id": "JZx4ZCkwtdOc"
   },
   "source": [
    "![](https://miro.medium.com/max/552/1*6EIZU5RiHx_Um_p-Zuh4Sw.png)\n",
    "![](https://miro.medium.com/max/552/1*3o9_XoQP4TaceYPRZVHlxg.png)\n",
    "$$ J = \\frac{1}{m} \\sum_{i=1}^m \\mathcal{L}(a_{i}, y_{i})$$\n",
    "\n",
    "If **y = 1**:\n",
    "$$ \\mathcal{L}(a_{i}, y_{i}) = -log(a_{i})$$\n",
    "\n",
    "If **y = 0**:\n",
    "$$ \\mathcal{L}(a{i}, y_{i}) = -log(1-a_{i}) $$\n",
    "\n",
    "Compress the above two functions into one by multiplying them by **y** and **(y-1)**, resepectively. This way can handle both cases when **x = 1** and **x = 0**.\n",
    "\n",
    "$$ J(w) = -\\frac1m \\sum_{i=0}^m[y_{i}log(a_{i}) + (1-y_{i})log(1-a_{i})] $$\n",
    "\n",
    "* $m$ is the total number of observations (data points)\n",
    "* $\\frac{1}{m} \\sum_{i=0}^{m}$ is the mean\n",
    "* $y_{i}$ is the actual value of an observation and $a_{i}$ is our prediction, i.e. output of the sigmoid function"
   ]
  },
  {
   "cell_type": "code",
   "execution_count": 0,
   "metadata": {
    "colab": {},
    "colab_type": "code",
    "id": "3l5nVBI1D2fL"
   },
   "outputs": [],
   "source": [
    "# Mean Absolute Error\n",
    "def mae(y, a):\n",
    "    return -np.mean(y * np.log(a) + (1 - y) * np.log(1 - a))"
   ]
  },
  {
   "cell_type": "markdown",
   "metadata": {
    "colab_type": "text",
    "id": "VIL4xMivpzZy"
   },
   "source": [
    "## Gradient Descent"
   ]
  },
  {
   "cell_type": "markdown",
   "metadata": {
    "colab_type": "text",
    "id": "VTMwRB_hqBOl"
   },
   "source": [
    "To minimize our Cost Function, we apply the Gradient Descent algorithm similar to the one we did in Linear Regression:\n",
    "\n",
    "__Formula:__\n",
    "\n",
    "- General:\n",
    "$$\\theta_j := \\theta_j - \\alpha \\frac {\\partial}{\\partial \\theta_j}J_\\theta$$\n",
    "\n",
    "  - $\\theta_j$: parameter ($w$, $b_1$, $b_2$,...$b_n$)\n",
    "  - $\\alpha$: learning rate\n",
    "  - $J_\\theta$: error function with parameter $\\theta_j$\n",
    "\n",
    "__This process is repreated until convergence.__\n",
    "\n",
    "\n",
    "- Partial Derivative of $b$:\n",
    "\n",
    "$$ \\frac {\\partial}{\\partial \\theta_b}J_\\theta = \\frac {-1}{m}\\sum_{i=1}^{n}(y_i-a_i) $$\n",
    "\n",
    "- Partial Derivative of $w$\n",
    "\n",
    "$$ \\frac {\\partial}{\\partial \\theta_w}J_\\theta = \\frac {-1}{m}\\sum_{i=1}^{n}x_i(y_i-a_i) $$\n",
    "\n",
    "<br>"
   ]
  },
  {
   "cell_type": "code",
   "execution_count": 0,
   "metadata": {
    "colab": {},
    "colab_type": "code",
    "id": "i8HaiOdMMtnl"
   },
   "outputs": [],
   "source": [
    "def backward():\n",
    "\n",
    "    global a, w, b\n",
    "\n",
    "    db = (-1/m) * np.sum(y - a, keepdims = True)\n",
    "    dw = (-1/m) * np.dot(X.T, (y - a))\n",
    "\n",
    "    b = b - (alpha * db)\n",
    "    w = w - (alpha * dw)\n",
    "\n",
    "    # Forward Propagation\n",
    "    a = 1 / (1 + np.exp(-(np.dot(X, w) + b)))\n",
    "    \n",
    "    return mae(y, a)"
   ]
  },
  {
   "cell_type": "code",
   "execution_count": 0,
   "metadata": {
    "colab": {
     "base_uri": "https://localhost:8080/",
     "height": 364
    },
    "colab_type": "code",
    "id": "2Aq1C4UlWf7I",
    "outputId": "aea65076-cfdc-4191-de20-bb1ebb02c172"
   },
   "outputs": [
    {
     "name": "stdout",
     "output_type": "stream",
     "text": [
      ">> Iteration: 1\n",
      "Weights: 0.0118, 0.0082 |---| Bias: 0.0005 |---| Cost: 0.6931\n",
      ">> Iteration: 1001\n",
      "Weights: 0.2118, 0.0994 |---| Bias: -1.0251 |---| Cost: 0.5116\n",
      ">> Iteration: 2001\n",
      "Weights: 0.286, 0.1678 |---| Bias: -1.8203 |---| Cost: 0.447\n",
      ">> Iteration: 3001\n",
      "Weights: 0.3465, 0.2231 |---| Bias: -2.4561 |---| Cost: 0.4057\n",
      ">> Iteration: 4001\n",
      "Weights: 0.3974, 0.2692 |---| Bias: -2.9835 |---| Cost: 0.3774\n",
      ">> Iteration: 5001\n",
      "Weights: 0.4414, 0.3088 |---| Bias: -3.4343 |---| Cost: 0.3566\n",
      ">> Iteration: 6001\n",
      "Weights: 0.4802, 0.3435 |---| Bias: -3.8283 |---| Cost: 0.3408\n",
      ">> Iteration: 7001\n",
      "Weights: 0.5149, 0.3746 |---| Bias: -4.1788 |---| Cost: 0.3283\n",
      ">> Iteration: 8001\n",
      "Weights: 0.5464, 0.4026 |---| Bias: -4.4949 |---| Cost: 0.3181\n",
      ">> Iteration: 9001\n",
      "Weights: 0.5751, 0.4283 |---| Bias: -4.7831 |---| Cost: 0.3097\n"
     ]
    }
   ],
   "source": [
    "# Test the model\n",
    "\n",
    "# Initialize parameters\n",
    "m = X.shape[0]\n",
    "n = X.shape[1]\n",
    "\n",
    "w = np.zeros((n, 1))\n",
    "b = np.zeros((1, 1))\n",
    "alpha = 0.01\n",
    "iterations = 10000\n",
    "\n",
    "a = predict(X, w, b)\n",
    "\n",
    "# Train the model\n",
    "for i in range(iterations):\n",
    "  cost = mae(y, a)\n",
    "  backward()\n",
    "\n",
    "  # Print progress\n",
    "  if i % 1000 == 0:\n",
    "    print(\">> Iteration:\",i + 1)\n",
    "    print(\"Weights: {}, {} |---| Bias: {} |---| Cost: {}\".format(round(w[0,0],4), round(w[1,0],4), round(b[0,0],4) ,round(cost,4)))"
   ]
  },
  {
   "cell_type": "code",
   "execution_count": 0,
   "metadata": {
    "colab": {},
    "colab_type": "code",
    "id": "oB2-29g-T8qn"
   },
   "outputs": [],
   "source": [
    "# Let's wrap everything up!\n",
    "class LogisticRegression():\n",
    "  def __init__(self, alpha, iterations, threshold=0.5):\n",
    "    self.alpha = alpha\n",
    "    self.iterations = iterations\n",
    "    self.threshold = threshold\n",
    "\n",
    "  def fit(self, X, y):\n",
    "    self.m = X.shape[0]\n",
    "    self.n = X.shape[1]\n",
    "    self.w = np.zeros((self.n, 1))\n",
    "    self.b = np.zeros((1, 1))\n",
    "    self.X = X\n",
    "    self.y = y\n",
    "    self.a = 1 / (1 + np.exp(-(np.dot(self.X, self.w) + self.b))) # Sigmoid function\n",
    "\n",
    "    for i in range(self.iterations):\n",
    "      self.backward()\n",
    "\n",
    "  def mae(self, y, a): # Mean absolute error\n",
    "    return -np.mean(y * np.log(a) + (1 - y) * np.log(1 - a))\n",
    "\n",
    "  def backward(self):\n",
    "\n",
    "    dw = (-1/self.m) * (np.dot(self.X.T, (self.y - self.a))) # Partial derivative with MAE function\n",
    "    db = (-1/self.m) * np.sum(self.y - self.a, keepdims = True)\n",
    "\n",
    "    self.w = self.w - (self.alpha * dw)\n",
    "    self.b = self.b - (self.alpha * db)\n",
    "\n",
    "    # Forward propagation\n",
    "    self.a = 1 / (1 + np.exp(-(np.dot(self.X, self.w) + self.b))) # Sigmoid function\n",
    "\n",
    "    return self.mae(self.y, self.a)\n",
    "\n",
    "  def predict(self, X):\n",
    "\n",
    "    a = 1 / (1 + np.exp(-(np.dot(X, self.w) + self.b)))\n",
    "    \n",
    "    decision_boundary = np.vectorize(lambda a, threshold: 1 if a >= threshold else 0)  #vectorized decision_boundary function\n",
    "\n",
    "    return decision_boundary(a, self.threshold).flatten() # Return 1 or 0"
   ]
  },
  {
   "cell_type": "markdown",
   "metadata": {
    "colab_type": "text",
    "id": "ZlKHv0PviGfd"
   },
   "source": [
    "### __Test final model__"
   ]
  },
  {
   "cell_type": "code",
   "execution_count": 0,
   "metadata": {
    "colab": {},
    "colab_type": "code",
    "id": "UBmcletwpdNT"
   },
   "outputs": [],
   "source": [
    "X = df[['Studied','Slept']].to_numpy()\n",
    "y = df['Passed'].to_numpy().reshape(-1,1)"
   ]
  },
  {
   "cell_type": "code",
   "execution_count": 0,
   "metadata": {
    "colab": {},
    "colab_type": "code",
    "id": "dMx5uUwTWbKe"
   },
   "outputs": [],
   "source": [
    "# Create model\n",
    "model = LogisticRegression(alpha = 0.01, iterations = 100000)\n",
    "\n",
    "# Fit / Train the model\n",
    "model.fit(X, y)\n",
    "\n",
    "# Make predictions\n",
    "predictions = model.predict(X)"
   ]
  },
  {
   "cell_type": "code",
   "execution_count": 0,
   "metadata": {
    "colab": {
     "base_uri": "https://localhost:8080/",
     "height": 260
    },
    "colab_type": "code",
    "id": "SQ2VUpfIecVU",
    "outputId": "4ec88e8b-6c3e-4bea-8123-5c723436fa1d"
   },
   "outputs": [
    {
     "name": "stdout",
     "output_type": "stream",
     "text": [
      "Mean Squared Error: 0.110000\n",
      "Accuracy Score: 0.890000\n",
      "Confusion Matrix:\n",
      "[[39  6]\n",
      " [ 5 50]]\n",
      "              precision    recall  f1-score   support\n",
      "\n",
      "           0       0.89      0.87      0.88        45\n",
      "           1       0.89      0.91      0.90        55\n",
      "\n",
      "    accuracy                           0.89       100\n",
      "   macro avg       0.89      0.89      0.89       100\n",
      "weighted avg       0.89      0.89      0.89       100\n",
      "\n"
     ]
    }
   ],
   "source": [
    "# Model Accuracy\n",
    "print(\"Mean Squared Error: %f\" % mean_squared_error(y, predictions))\n",
    "print(\"Accuracy Score: %f\" % accuracy_score(y, predictions))\n",
    "print(\"Confusion Matrix:\")\n",
    "print(confusion_matrix(y, predictions))\n",
    "print(classification_report(y, predictions))"
   ]
  },
  {
   "cell_type": "code",
   "execution_count": 0,
   "metadata": {
    "colab": {
     "base_uri": "https://localhost:8080/",
     "height": 315
    },
    "colab_type": "code",
    "id": "UZuv0VVbQ8AP",
    "outputId": "72b0686f-6996-4818-a955-e6ba9aad3ab3"
   },
   "outputs": [
    {
     "name": "stdout",
     "output_type": "stream",
     "text": [
      "Mean Squared Error: 0.110000\n",
      "Accuracy Score: 0.890000\n",
      "Confusion Matrix:\n",
      "[[39  6]\n",
      " [ 5 50]]\n",
      "              precision    recall  f1-score   support\n",
      "\n",
      "           0       0.89      0.87      0.88        45\n",
      "           1       0.89      0.91      0.90        55\n",
      "\n",
      "    accuracy                           0.89       100\n",
      "   macro avg       0.89      0.89      0.89       100\n",
      "weighted avg       0.89      0.89      0.89       100\n",
      "\n"
     ]
    },
    {
     "name": "stderr",
     "output_type": "stream",
     "text": [
      "/usr/local/lib/python3.6/dist-packages/sklearn/utils/validation.py:760: DataConversionWarning: A column-vector y was passed when a 1d array was expected. Please change the shape of y to (n_samples, ), for example using ravel().\n",
      "  y = column_or_1d(y, warn=True)\n"
     ]
    }
   ],
   "source": [
    "# Create Logistic Regression model that \n",
    "from sklearn.linear_model import LogisticRegression\n",
    "from sklearn.metrics import mean_squared_error\n",
    "from sklearn.metrics import confusion_matrix, accuracy_score, classification_report\n",
    "\n",
    "# Set X and y\n",
    "X = df[['Studied','Slept']].to_numpy()\n",
    "y = df['Passed'].to_numpy().reshape(-1,1)\n",
    "\n",
    "# Create Logistics Regression model from X and y\n",
    "lg = LogisticRegression()\n",
    "lg.fit(X, y)\n",
    "\n",
    "predictions = lg.predict(X)\n",
    "\n",
    "# Show metrics\n",
    "print(\"Mean Squared Error: %f\" % mean_squared_error(y, lg.predict(X)))\n",
    "print(\"Accuracy Score: %f\" % accuracy_score(y, lg.predict(X)))\n",
    "print(\"Confusion Matrix:\")\n",
    "print(confusion_matrix(y, predictions))\n",
    "print(classification_report(y, predictions))"
   ]
  },
  {
   "cell_type": "code",
   "execution_count": null,
   "metadata": {},
   "outputs": [],
   "source": [
    "import math\n",
    "!pip install gradient\n",
    "\n",
    "# # # Loss function = half-MSE # # #\n",
    "# # parameters\n",
    "# y = original values of target variable\n",
    "# yhat = predicted values of target variable\n",
    "def loss(y, yhat):\n",
    "    term1 = [y[i] * math.log(yhat[i]) for i in range(len(y))]\n",
    "    term2 = [(1 - y[i]) * math.log((1 - yhat[i])) for i in range(len(y))]\n",
    "    term3 = sum([term1[i] + term2[i] for i in range(len(term1))])\n",
    "    term4 = -term3/float(len(y))\n",
    "    return term4\n",
    "\n",
    "# # # derivative function of intercept # # #\n",
    "# # parameters\n",
    "# y = original values of target variable\n",
    "# yhat = predicted values of target variable\n",
    "def derivative1(y, yhat):\n",
    "    d = sum([yhat[i] - y[i] for i in range(len(y))])\n",
    "    d = d / float(len(y))\n",
    "    return(d)\n",
    "# # # derivative function of slopes i.e. theta1, theta2, theta3.... thetaN # # #\n",
    "# # parameters\n",
    "# y = original values of target variable\n",
    "# yhat = predicted values of target variable\n",
    "# x_n = list of values of nth feature in the data\n",
    "def derivativeN(y, yhat, x_n):\n",
    "    d = sum([((yhat[i] - y[i]) * x_n[i]) for i in range(len(y))])\n",
    "    d = d / float(len(y))\n",
    "    return(d)\n",
    "\n",
    "# # # A function that calculates the derivative change with learning rate # # #\n",
    "# # parameters\n",
    "# x = list of lists of independent feature values in the data\n",
    "# y = original values of target variable\n",
    "# yhat = predicted values of target variable\n",
    "# params = parameters that needs optimization\n",
    "# learning_rate = learning_rate to proceed with the gradient\n",
    "def derivatives(x, y, yhat, params, learning_rate):\n",
    "    params['intercept'] = round(params['intercept'] - learning_rate * derivative1(y, yhat), 6)\n",
    "    params['slopes'] = [round(params['slopes'][i] - learning_rate * derivativeN(y, yhat, x[i]), 6) for i in range(len(x))]\n",
    "    return(params)\n",
    "\n",
    "# # # A function (sigmoid function) that calculates y value given x and params # # #\n",
    "# # parameters\n",
    "# x = list of lists of independent feature values in the data\n",
    "# params = parameters that needs optimization\n",
    "def yEQ(x, params):\n",
    "    mx = [[j * params['slopes'][i] for j in x[i]] for i in range(len(x))]\n",
    "    mxc = [params['intercept'] + sum(i) for i in zip(*mx)]\n",
    "    yhat = [(1/ (1 + math.exp(-i))) for i in mxc]\n",
    "    yhat = [0.9999999999999999 if i == 1.0 else i for i in yhat]\n",
    "    return yhat\n",
    "\n",
    "# # import gradient (vanilla_gradient_descent) algorithm\n",
    "from gradient import vanilla_gradient_descent\n",
    "# # initializations\n",
    "# # generate x\n",
    "x = []\n",
    "x1 = range(1, 11)\n",
    "x2 = range(1, 20, 2)\n",
    "x3 = range(0, 19, 2)\n",
    "x.append(x1)\n",
    "x.append(x2)\n",
    "x.append(x3)\n",
    "# # formulate original 'y' i.e. y = 1/(1 + exp(-(1 + x1 + 2*x2 + x3)))\n",
    "slopes = [1, -2, 1]\n",
    "intercept = 1\n",
    "y = [round(i) for i in yEQ(x, params = {'intercept' : intercept, 'slopes' : slopes})]\n",
    "# # run vanilla_gradient_descent\n",
    "vanilla_gradient_descent(x, y, learning_rate = 0.01, print_every = 1000, threshold = 0.001, iters = 10000000, params = {'slopes' : [0] * len(x), 'intercept' : 0}, derivatives = derivatives, yEQ = yEQ, loss = loss)"
   ]
  }
 ],
 "metadata": {
  "accelerator": "GPU",
  "colab": {
   "collapsed_sections": [],
   "name": "FTMLE_Logistic Regression from Scratch.ipynb",
   "provenance": []
  },
  "kernelspec": {
   "display_name": "Python 3",
   "language": "python",
   "name": "python3"
  },
  "language_info": {
   "codemirror_mode": {
    "name": "ipython",
    "version": 3
   },
   "file_extension": ".py",
   "mimetype": "text/x-python",
   "name": "python",
   "nbconvert_exporter": "python",
   "pygments_lexer": "ipython3",
   "version": "3.7.4"
  }
 },
 "nbformat": 4,
 "nbformat_minor": 1
}
